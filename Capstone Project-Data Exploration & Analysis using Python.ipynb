{
 "cells": [
  {
   "cell_type": "markdown",
   "id": "f3d6ea8a-3ff7-414c-8758-c81e3b181037",
   "metadata": {},
   "source": [
    "# Data Exploration with Python using Pandas & Numpy Libraries"
   ]
  },
  {
   "cell_type": "markdown",
   "id": "bc54065c-ea2b-4dad-a65b-b7160d7bf8e9",
   "metadata": {},
   "source": [
    "Group Number 8 : Itighne Sinha (055015) | Suvra Dutta Banik (055049)"
   ]
  },
  {
   "cell_type": "markdown",
   "id": "bbb60e50-50b9-4e8e-a559-f714448f6ff1",
   "metadata": {},
   "source": [
    "Project Title | Student Name(s) | Enrollment Number(s) | Group Number(s)"
   ]
  },
  {
   "cell_type": "markdown",
   "id": "111951ce-bf5a-4848-a61e-22376d80ea78",
   "metadata": {},
   "source": [
    "## Decription Of Data"
   ]
  },
  {
   "cell_type": "markdown",
   "id": "01746512-ad64-4a07-91b0-03ca32a2b3fb",
   "metadata": {},
   "source": [
    "-   Source: The dataset has been sourced using Kaggle, titled 'Import Export 15000' by Vishwas Chakilam.\n",
    "-   Type : Panel\n"
   ]
  },
  {
   "cell_type": "code",
   "execution_count": 32,
   "id": "84f4fcab-1c8e-4e7a-a452-d242f7d5b334",
   "metadata": {},
   "outputs": [],
   "source": [
    "#The required Imports\n",
    "import pandas as pd\n",
    "import numpy as np"
   ]
  },
  {
   "cell_type": "code",
   "execution_count": 34,
   "id": "dd165af9-bb0b-4df0-9ea4-0211c9a86193",
   "metadata": {},
   "outputs": [],
   "source": [
    "#Loading the csv Data in Python\n",
    "database=pd.read_csv(\"C:/Users/itigh/Imports_Exports_Dataset.csv\")"
   ]
  },
  {
   "cell_type": "code",
   "execution_count": 47,
   "id": "42e1f4de-8aa5-4a28-a7cc-e6c58afc697f",
   "metadata": {},
   "outputs": [
    {
     "data": {
      "text/html": [
       "<div>\n",
       "<style scoped>\n",
       "    .dataframe tbody tr th:only-of-type {\n",
       "        vertical-align: middle;\n",
       "    }\n",
       "\n",
       "    .dataframe tbody tr th {\n",
       "        vertical-align: top;\n",
       "    }\n",
       "\n",
       "    .dataframe thead th {\n",
       "        text-align: right;\n",
       "    }\n",
       "</style>\n",
       "<table border=\"1\" class=\"dataframe\">\n",
       "  <thead>\n",
       "    <tr style=\"text-align: right;\">\n",
       "      <th></th>\n",
       "      <th>Transaction_ID</th>\n",
       "      <th>Country</th>\n",
       "      <th>Product</th>\n",
       "      <th>Import_Export</th>\n",
       "      <th>Quantity</th>\n",
       "      <th>Value</th>\n",
       "      <th>Date</th>\n",
       "      <th>Category</th>\n",
       "      <th>Port</th>\n",
       "      <th>Customs_Code</th>\n",
       "      <th>Weight</th>\n",
       "      <th>Shipping_Method</th>\n",
       "      <th>Supplier</th>\n",
       "      <th>Customer</th>\n",
       "      <th>Invoice_Number</th>\n",
       "      <th>Payment_Terms</th>\n",
       "    </tr>\n",
       "  </thead>\n",
       "  <tbody>\n",
       "    <tr>\n",
       "      <th>0</th>\n",
       "      <td>e3e70682-c209-4cac-a29f-6fbed82c07cd</td>\n",
       "      <td>Colombia</td>\n",
       "      <td>describe</td>\n",
       "      <td>Export</td>\n",
       "      <td>1979</td>\n",
       "      <td>9506.57</td>\n",
       "      <td>07-12-2023</td>\n",
       "      <td>Machinery</td>\n",
       "      <td>Robertbury</td>\n",
       "      <td>620537</td>\n",
       "      <td>4248.65</td>\n",
       "      <td>Air</td>\n",
       "      <td>Garrison, Hubbard and Hendricks</td>\n",
       "      <td>Seth Hall</td>\n",
       "      <td>21000294</td>\n",
       "      <td>Cash on Delivery</td>\n",
       "    </tr>\n",
       "    <tr>\n",
       "      <th>1</th>\n",
       "      <td>f728b4fa-4248-4e3a-8a5d-2f346baa9455</td>\n",
       "      <td>Chile</td>\n",
       "      <td>president</td>\n",
       "      <td>Export</td>\n",
       "      <td>5763</td>\n",
       "      <td>7100.91</td>\n",
       "      <td>04-04-2023</td>\n",
       "      <td>Clothing</td>\n",
       "      <td>Shahport</td>\n",
       "      <td>927600</td>\n",
       "      <td>4340.81</td>\n",
       "      <td>Air</td>\n",
       "      <td>Webb-Mack</td>\n",
       "      <td>Kimberly Ryan</td>\n",
       "      <td>88738432</td>\n",
       "      <td>Prepaid</td>\n",
       "    </tr>\n",
       "    <tr>\n",
       "      <th>2</th>\n",
       "      <td>eb1167b3-67a9-4378-bc65-c1e582e2e662</td>\n",
       "      <td>Turkey</td>\n",
       "      <td>far</td>\n",
       "      <td>Import</td>\n",
       "      <td>5740</td>\n",
       "      <td>2450.34</td>\n",
       "      <td>21-08-2024</td>\n",
       "      <td>Electronics</td>\n",
       "      <td>South Joshuatown</td>\n",
       "      <td>299258</td>\n",
       "      <td>4538.41</td>\n",
       "      <td>Air</td>\n",
       "      <td>Mendez, Jones and Johnson</td>\n",
       "      <td>Ryan Silva</td>\n",
       "      <td>89922099</td>\n",
       "      <td>Prepaid</td>\n",
       "    </tr>\n",
       "    <tr>\n",
       "      <th>3</th>\n",
       "      <td>f7c1bd87-4da5-4709-9471-3d60c8a70639</td>\n",
       "      <td>Christmas Island</td>\n",
       "      <td>agency</td>\n",
       "      <td>Export</td>\n",
       "      <td>2592</td>\n",
       "      <td>7226.42</td>\n",
       "      <td>09-05-2022</td>\n",
       "      <td>Furniture</td>\n",
       "      <td>Adamfort</td>\n",
       "      <td>996084</td>\n",
       "      <td>4886.14</td>\n",
       "      <td>Air</td>\n",
       "      <td>Schroeder-Smith</td>\n",
       "      <td>Jacob Gray</td>\n",
       "      <td>63216265</td>\n",
       "      <td>Net 60</td>\n",
       "    </tr>\n",
       "    <tr>\n",
       "      <th>4</th>\n",
       "      <td>e443df78-9558-467f-9ba9-1faf7a024204</td>\n",
       "      <td>Finland</td>\n",
       "      <td>policy</td>\n",
       "      <td>Export</td>\n",
       "      <td>2622</td>\n",
       "      <td>2817.29</td>\n",
       "      <td>03-04-2023</td>\n",
       "      <td>Electronics</td>\n",
       "      <td>Juliebury</td>\n",
       "      <td>555981</td>\n",
       "      <td>4406.74</td>\n",
       "      <td>Air</td>\n",
       "      <td>Zimmerman LLC</td>\n",
       "      <td>Amy Stephens</td>\n",
       "      <td>94600248</td>\n",
       "      <td>Cash on Delivery</td>\n",
       "    </tr>\n",
       "  </tbody>\n",
       "</table>\n",
       "</div>"
      ],
      "text/plain": [
       "                         Transaction_ID           Country    Product  \\\n",
       "0  e3e70682-c209-4cac-a29f-6fbed82c07cd          Colombia   describe   \n",
       "1  f728b4fa-4248-4e3a-8a5d-2f346baa9455             Chile  president   \n",
       "2  eb1167b3-67a9-4378-bc65-c1e582e2e662            Turkey        far   \n",
       "3  f7c1bd87-4da5-4709-9471-3d60c8a70639  Christmas Island     agency   \n",
       "4  e443df78-9558-467f-9ba9-1faf7a024204           Finland     policy   \n",
       "\n",
       "  Import_Export  Quantity    Value        Date     Category              Port  \\\n",
       "0        Export      1979  9506.57  07-12-2023    Machinery        Robertbury   \n",
       "1        Export      5763  7100.91  04-04-2023     Clothing          Shahport   \n",
       "2        Import      5740  2450.34  21-08-2024  Electronics  South Joshuatown   \n",
       "3        Export      2592  7226.42  09-05-2022    Furniture          Adamfort   \n",
       "4        Export      2622  2817.29  03-04-2023  Electronics         Juliebury   \n",
       "\n",
       "   Customs_Code   Weight Shipping_Method                         Supplier  \\\n",
       "0        620537  4248.65             Air  Garrison, Hubbard and Hendricks   \n",
       "1        927600  4340.81             Air                        Webb-Mack   \n",
       "2        299258  4538.41             Air        Mendez, Jones and Johnson   \n",
       "3        996084  4886.14             Air                  Schroeder-Smith   \n",
       "4        555981  4406.74             Air                    Zimmerman LLC   \n",
       "\n",
       "        Customer  Invoice_Number     Payment_Terms  \n",
       "0      Seth Hall        21000294  Cash on Delivery  \n",
       "1  Kimberly Ryan        88738432           Prepaid  \n",
       "2     Ryan Silva        89922099           Prepaid  \n",
       "3     Jacob Gray        63216265            Net 60  \n",
       "4   Amy Stephens        94600248  Cash on Delivery  "
      ]
     },
     "execution_count": 47,
     "metadata": {},
     "output_type": "execute_result"
    }
   ],
   "source": [
    "# Viewing the top 5 rows of the data\n",
    "database.head(5)"
   ]
  },
  {
   "cell_type": "code",
   "execution_count": 42,
   "id": "54bab200-0483-4df9-a7d8-8dbbe9569534",
   "metadata": {},
   "outputs": [
    {
     "data": {
      "text/plain": [
       "(15000, 16)"
      ]
     },
     "execution_count": 42,
     "metadata": {},
     "output_type": "execute_result"
    }
   ],
   "source": [
    "# Dimensions of the Data\n",
    "database.shape"
   ]
  },
  {
   "cell_type": "markdown",
   "id": "a86d0b3b-34cd-4661-b8b0-13bdb2f204ac",
   "metadata": {},
   "source": [
    "The dataset has 15000 observations and 16 variables"
   ]
  },
  {
   "cell_type": "code",
   "execution_count": 53,
   "id": "959739ed-eeaa-4788-854f-597ffb6e7641",
   "metadata": {},
   "outputs": [
    {
     "name": "stdout",
     "output_type": "stream",
     "text": [
      "<class 'pandas.core.frame.DataFrame'>\n",
      "RangeIndex: 15000 entries, 0 to 14999\n",
      "Data columns (total 16 columns):\n",
      " #   Column           Non-Null Count  Dtype  \n",
      "---  ------           --------------  -----  \n",
      " 0   Transaction_ID   15000 non-null  object \n",
      " 1   Country          15000 non-null  object \n",
      " 2   Product          15000 non-null  object \n",
      " 3   Import_Export    15000 non-null  object \n",
      " 4   Quantity         15000 non-null  int64  \n",
      " 5   Value            15000 non-null  float64\n",
      " 6   Date             15000 non-null  object \n",
      " 7   Category         15000 non-null  object \n",
      " 8   Port             15000 non-null  object \n",
      " 9   Customs_Code     15000 non-null  int64  \n",
      " 10  Weight           15000 non-null  float64\n",
      " 11  Shipping_Method  15000 non-null  object \n",
      " 12  Supplier         15000 non-null  object \n",
      " 13  Customer         15000 non-null  object \n",
      " 14  Invoice_Number   15000 non-null  int64  \n",
      " 15  Payment_Terms    15000 non-null  object \n",
      "dtypes: float64(2), int64(3), object(11)\n",
      "memory usage: 1.8+ MB\n"
     ]
    }
   ],
   "source": [
    "#Data Variable Types\n",
    "#Viewing the information about the columns(Object Types) of the Data set\n",
    "database.info()"
   ]
  },
  {
   "cell_type": "markdown",
   "id": "476931be-957b-4a53-8647-4eadd21ef65d",
   "metadata": {},
   "source": [
    "Data Variable Category\n",
    "- Index_variable = ['Transaction_ID', 'Date','Invoice_Number','Customs Code']\n",
    "- Non_categorical_variable = ['Quantity', 'Value', 'Weight']\n",
    "- Categorical_nominal_variable = ['Country', 'Product', 'Shipping_Method', 'Supplier', 'Customer', 'Import_Export','Port', 'Category']\n",
    "- Categorical_ordinal_variable = ['Payment_Terms']"
   ]
  },
  {
   "cell_type": "markdown",
   "id": "2ee869c7-faaf-4fa1-840b-1f2688e58a6a",
   "metadata": {},
   "source": [
    "### Sampling of Data"
   ]
  },
  {
   "cell_type": "code",
   "execution_count": 134,
   "id": "6d688ed1-cce6-44a7-a3fb-ff32dc2222f5",
   "metadata": {},
   "outputs": [],
   "source": [
    "# Sampled 2001 rows randomly from the given data set\n",
    "samData = database.sample(n=2001,random_state=50155049)"
   ]
  },
  {
   "cell_type": "code",
   "execution_count": 136,
   "id": "c40fc4bb-b5f6-49b1-875d-a95e468311d0",
   "metadata": {},
   "outputs": [
    {
     "data": {
      "text/html": [
       "<div>\n",
       "<style scoped>\n",
       "    .dataframe tbody tr th:only-of-type {\n",
       "        vertical-align: middle;\n",
       "    }\n",
       "\n",
       "    .dataframe tbody tr th {\n",
       "        vertical-align: top;\n",
       "    }\n",
       "\n",
       "    .dataframe thead th {\n",
       "        text-align: right;\n",
       "    }\n",
       "</style>\n",
       "<table border=\"1\" class=\"dataframe\">\n",
       "  <thead>\n",
       "    <tr style=\"text-align: right;\">\n",
       "      <th></th>\n",
       "      <th>Transaction_ID</th>\n",
       "      <th>Country</th>\n",
       "      <th>Product</th>\n",
       "      <th>Import_Export</th>\n",
       "      <th>Quantity</th>\n",
       "      <th>Value</th>\n",
       "      <th>Date</th>\n",
       "      <th>Category</th>\n",
       "      <th>Port</th>\n",
       "      <th>Customs_Code</th>\n",
       "      <th>Weight</th>\n",
       "      <th>Shipping_Method</th>\n",
       "      <th>Supplier</th>\n",
       "      <th>Customer</th>\n",
       "      <th>Invoice_Number</th>\n",
       "      <th>Payment_Terms</th>\n",
       "    </tr>\n",
       "  </thead>\n",
       "  <tbody>\n",
       "    <tr>\n",
       "      <th>4475</th>\n",
       "      <td>040c4d58-954a-4019-a093-e30f1e1eedd9</td>\n",
       "      <td>Cayman Islands</td>\n",
       "      <td>particularly</td>\n",
       "      <td>Export</td>\n",
       "      <td>3401</td>\n",
       "      <td>7596.83</td>\n",
       "      <td>21-11-2021</td>\n",
       "      <td>Clothing</td>\n",
       "      <td>Connorfort</td>\n",
       "      <td>421451</td>\n",
       "      <td>2297.29</td>\n",
       "      <td>Air</td>\n",
       "      <td>Wang-Pierce</td>\n",
       "      <td>Nicholas Thomas</td>\n",
       "      <td>93759184</td>\n",
       "      <td>Net 30</td>\n",
       "    </tr>\n",
       "    <tr>\n",
       "      <th>14872</th>\n",
       "      <td>a171d7ab-9aaf-46b5-9885-75e4cbb1a283</td>\n",
       "      <td>Korea</td>\n",
       "      <td>food</td>\n",
       "      <td>Export</td>\n",
       "      <td>9065</td>\n",
       "      <td>9840.43</td>\n",
       "      <td>18-08-2021</td>\n",
       "      <td>Clothing</td>\n",
       "      <td>Robinsonfort</td>\n",
       "      <td>273361</td>\n",
       "      <td>1355.64</td>\n",
       "      <td>Sea</td>\n",
       "      <td>Watkins, Turner and Mckenzie</td>\n",
       "      <td>Rebecca Howell</td>\n",
       "      <td>51859480</td>\n",
       "      <td>Cash on Delivery</td>\n",
       "    </tr>\n",
       "    <tr>\n",
       "      <th>11676</th>\n",
       "      <td>7b274e83-1f5e-47c1-bf99-277822ea6d2e</td>\n",
       "      <td>Wallis and Futuna</td>\n",
       "      <td>visit</td>\n",
       "      <td>Import</td>\n",
       "      <td>8263</td>\n",
       "      <td>9784.94</td>\n",
       "      <td>28-01-2021</td>\n",
       "      <td>Electronics</td>\n",
       "      <td>Josephville</td>\n",
       "      <td>595425</td>\n",
       "      <td>2794.72</td>\n",
       "      <td>Sea</td>\n",
       "      <td>Baird-Evans</td>\n",
       "      <td>Alfred Webb</td>\n",
       "      <td>90639306</td>\n",
       "      <td>Net 60</td>\n",
       "    </tr>\n",
       "    <tr>\n",
       "      <th>7899</th>\n",
       "      <td>2ac89f33-ea9f-4d6e-a74b-a32f4ba28a39</td>\n",
       "      <td>Mauritania</td>\n",
       "      <td>use</td>\n",
       "      <td>Export</td>\n",
       "      <td>861</td>\n",
       "      <td>5886.57</td>\n",
       "      <td>08-08-2024</td>\n",
       "      <td>Electronics</td>\n",
       "      <td>Alberthaven</td>\n",
       "      <td>938768</td>\n",
       "      <td>651.74</td>\n",
       "      <td>Land</td>\n",
       "      <td>Herrera, Martinez and Mathews</td>\n",
       "      <td>Javier Thompson</td>\n",
       "      <td>78531183</td>\n",
       "      <td>Cash on Delivery</td>\n",
       "    </tr>\n",
       "    <tr>\n",
       "      <th>13257</th>\n",
       "      <td>74f78ab7-9337-454c-9493-5f113ba9e1ec</td>\n",
       "      <td>Iraq</td>\n",
       "      <td>ago</td>\n",
       "      <td>Export</td>\n",
       "      <td>4736</td>\n",
       "      <td>5980.04</td>\n",
       "      <td>22-01-2020</td>\n",
       "      <td>Furniture</td>\n",
       "      <td>Lucasshire</td>\n",
       "      <td>694309</td>\n",
       "      <td>1153.97</td>\n",
       "      <td>Land</td>\n",
       "      <td>Gutierrez-Lawson</td>\n",
       "      <td>Anthony Warren</td>\n",
       "      <td>42585126</td>\n",
       "      <td>Net 60</td>\n",
       "    </tr>\n",
       "    <tr>\n",
       "      <th>...</th>\n",
       "      <td>...</td>\n",
       "      <td>...</td>\n",
       "      <td>...</td>\n",
       "      <td>...</td>\n",
       "      <td>...</td>\n",
       "      <td>...</td>\n",
       "      <td>...</td>\n",
       "      <td>...</td>\n",
       "      <td>...</td>\n",
       "      <td>...</td>\n",
       "      <td>...</td>\n",
       "      <td>...</td>\n",
       "      <td>...</td>\n",
       "      <td>...</td>\n",
       "      <td>...</td>\n",
       "      <td>...</td>\n",
       "    </tr>\n",
       "    <tr>\n",
       "      <th>11065</th>\n",
       "      <td>101ca3bf-49b6-4a18-bf08-c565df93e562</td>\n",
       "      <td>Bahrain</td>\n",
       "      <td>nor</td>\n",
       "      <td>Export</td>\n",
       "      <td>2885</td>\n",
       "      <td>3827.47</td>\n",
       "      <td>02-02-2023</td>\n",
       "      <td>Toys</td>\n",
       "      <td>East Carolfurt</td>\n",
       "      <td>570095</td>\n",
       "      <td>4553.75</td>\n",
       "      <td>Air</td>\n",
       "      <td>Sanders LLC</td>\n",
       "      <td>Tiffany Wolfe</td>\n",
       "      <td>40357903</td>\n",
       "      <td>Cash on Delivery</td>\n",
       "    </tr>\n",
       "    <tr>\n",
       "      <th>3761</th>\n",
       "      <td>c419f2b5-7d79-4b44-8633-ff19d95807d2</td>\n",
       "      <td>Chile</td>\n",
       "      <td>measure</td>\n",
       "      <td>Import</td>\n",
       "      <td>5294</td>\n",
       "      <td>9724.69</td>\n",
       "      <td>02-11-2021</td>\n",
       "      <td>Electronics</td>\n",
       "      <td>Anthonyborough</td>\n",
       "      <td>133221</td>\n",
       "      <td>2136.84</td>\n",
       "      <td>Land</td>\n",
       "      <td>Marks-Blair</td>\n",
       "      <td>Donald Jones</td>\n",
       "      <td>40735134</td>\n",
       "      <td>Cash on Delivery</td>\n",
       "    </tr>\n",
       "    <tr>\n",
       "      <th>6504</th>\n",
       "      <td>fa73e484-96c7-4dbe-aaa8-78396259a1a5</td>\n",
       "      <td>Heard Island and McDonald Islands</td>\n",
       "      <td>side</td>\n",
       "      <td>Export</td>\n",
       "      <td>9716</td>\n",
       "      <td>8273.51</td>\n",
       "      <td>16-10-2020</td>\n",
       "      <td>Clothing</td>\n",
       "      <td>Amandaburgh</td>\n",
       "      <td>762471</td>\n",
       "      <td>4240.21</td>\n",
       "      <td>Air</td>\n",
       "      <td>Holland Inc</td>\n",
       "      <td>Heather Guzman</td>\n",
       "      <td>75098189</td>\n",
       "      <td>Prepaid</td>\n",
       "    </tr>\n",
       "    <tr>\n",
       "      <th>5577</th>\n",
       "      <td>7c73accd-ffc3-4373-828d-4d64cab74ebe</td>\n",
       "      <td>Micronesia</td>\n",
       "      <td>necessary</td>\n",
       "      <td>Import</td>\n",
       "      <td>9339</td>\n",
       "      <td>1999.65</td>\n",
       "      <td>08-02-2021</td>\n",
       "      <td>Electronics</td>\n",
       "      <td>Cruzmouth</td>\n",
       "      <td>261036</td>\n",
       "      <td>624.63</td>\n",
       "      <td>Sea</td>\n",
       "      <td>Garcia, Matthews and Hernandez</td>\n",
       "      <td>Christopher Lane</td>\n",
       "      <td>20721735</td>\n",
       "      <td>Net 60</td>\n",
       "    </tr>\n",
       "    <tr>\n",
       "      <th>13135</th>\n",
       "      <td>d8c52567-622b-4634-9658-43ed94a7307a</td>\n",
       "      <td>Romania</td>\n",
       "      <td>red</td>\n",
       "      <td>Export</td>\n",
       "      <td>4042</td>\n",
       "      <td>3421.42</td>\n",
       "      <td>04-05-2024</td>\n",
       "      <td>Electronics</td>\n",
       "      <td>Melaniestad</td>\n",
       "      <td>207281</td>\n",
       "      <td>2774.58</td>\n",
       "      <td>Air</td>\n",
       "      <td>Parker PLC</td>\n",
       "      <td>Rachel Morgan</td>\n",
       "      <td>58643812</td>\n",
       "      <td>Cash on Delivery</td>\n",
       "    </tr>\n",
       "  </tbody>\n",
       "</table>\n",
       "<p>2001 rows × 16 columns</p>\n",
       "</div>"
      ],
      "text/plain": [
       "                             Transaction_ID  \\\n",
       "4475   040c4d58-954a-4019-a093-e30f1e1eedd9   \n",
       "14872  a171d7ab-9aaf-46b5-9885-75e4cbb1a283   \n",
       "11676  7b274e83-1f5e-47c1-bf99-277822ea6d2e   \n",
       "7899   2ac89f33-ea9f-4d6e-a74b-a32f4ba28a39   \n",
       "13257  74f78ab7-9337-454c-9493-5f113ba9e1ec   \n",
       "...                                     ...   \n",
       "11065  101ca3bf-49b6-4a18-bf08-c565df93e562   \n",
       "3761   c419f2b5-7d79-4b44-8633-ff19d95807d2   \n",
       "6504   fa73e484-96c7-4dbe-aaa8-78396259a1a5   \n",
       "5577   7c73accd-ffc3-4373-828d-4d64cab74ebe   \n",
       "13135  d8c52567-622b-4634-9658-43ed94a7307a   \n",
       "\n",
       "                                 Country       Product Import_Export  \\\n",
       "4475                      Cayman Islands  particularly        Export   \n",
       "14872                              Korea          food        Export   \n",
       "11676                  Wallis and Futuna         visit        Import   \n",
       "7899                          Mauritania           use        Export   \n",
       "13257                               Iraq           ago        Export   \n",
       "...                                  ...           ...           ...   \n",
       "11065                            Bahrain           nor        Export   \n",
       "3761                               Chile       measure        Import   \n",
       "6504   Heard Island and McDonald Islands          side        Export   \n",
       "5577                          Micronesia     necessary        Import   \n",
       "13135                            Romania           red        Export   \n",
       "\n",
       "       Quantity    Value        Date     Category            Port  \\\n",
       "4475       3401  7596.83  21-11-2021     Clothing      Connorfort   \n",
       "14872      9065  9840.43  18-08-2021     Clothing    Robinsonfort   \n",
       "11676      8263  9784.94  28-01-2021  Electronics     Josephville   \n",
       "7899        861  5886.57  08-08-2024  Electronics     Alberthaven   \n",
       "13257      4736  5980.04  22-01-2020    Furniture      Lucasshire   \n",
       "...         ...      ...         ...          ...             ...   \n",
       "11065      2885  3827.47  02-02-2023         Toys  East Carolfurt   \n",
       "3761       5294  9724.69  02-11-2021  Electronics  Anthonyborough   \n",
       "6504       9716  8273.51  16-10-2020     Clothing     Amandaburgh   \n",
       "5577       9339  1999.65  08-02-2021  Electronics       Cruzmouth   \n",
       "13135      4042  3421.42  04-05-2024  Electronics     Melaniestad   \n",
       "\n",
       "       Customs_Code   Weight Shipping_Method                        Supplier  \\\n",
       "4475         421451  2297.29             Air                     Wang-Pierce   \n",
       "14872        273361  1355.64             Sea    Watkins, Turner and Mckenzie   \n",
       "11676        595425  2794.72             Sea                     Baird-Evans   \n",
       "7899         938768   651.74            Land   Herrera, Martinez and Mathews   \n",
       "13257        694309  1153.97            Land                Gutierrez-Lawson   \n",
       "...             ...      ...             ...                             ...   \n",
       "11065        570095  4553.75             Air                     Sanders LLC   \n",
       "3761         133221  2136.84            Land                     Marks-Blair   \n",
       "6504         762471  4240.21             Air                     Holland Inc   \n",
       "5577         261036   624.63             Sea  Garcia, Matthews and Hernandez   \n",
       "13135        207281  2774.58             Air                      Parker PLC   \n",
       "\n",
       "               Customer  Invoice_Number     Payment_Terms  \n",
       "4475    Nicholas Thomas        93759184            Net 30  \n",
       "14872    Rebecca Howell        51859480  Cash on Delivery  \n",
       "11676       Alfred Webb        90639306            Net 60  \n",
       "7899    Javier Thompson        78531183  Cash on Delivery  \n",
       "13257    Anthony Warren        42585126            Net 60  \n",
       "...                 ...             ...               ...  \n",
       "11065     Tiffany Wolfe        40357903  Cash on Delivery  \n",
       "3761       Donald Jones        40735134  Cash on Delivery  \n",
       "6504     Heather Guzman        75098189           Prepaid  \n",
       "5577   Christopher Lane        20721735            Net 60  \n",
       "13135     Rachel Morgan        58643812  Cash on Delivery  \n",
       "\n",
       "[2001 rows x 16 columns]"
      ]
     },
     "execution_count": 136,
     "metadata": {},
     "output_type": "execute_result"
    }
   ],
   "source": [
    "# Display the sampled dataset\n",
    "samData"
   ]
  },
  {
   "cell_type": "code",
   "execution_count": 138,
   "id": "d80ab13a-febc-46b4-bfa5-443e2cba7c42",
   "metadata": {},
   "outputs": [
    {
     "data": {
      "text/plain": [
       "(2001, 16)"
      ]
     },
     "execution_count": 138,
     "metadata": {},
     "output_type": "execute_result"
    }
   ],
   "source": [
    "#Shape of the sampled data\n",
    "samData.shape"
   ]
  },
  {
   "cell_type": "code",
   "execution_count": 140,
   "id": "c8d4e519-4856-48e6-a3a6-2a92325a41d4",
   "metadata": {},
   "outputs": [
    {
     "name": "stdout",
     "output_type": "stream",
     "text": [
      "<class 'pandas.core.frame.DataFrame'>\n",
      "Index: 2001 entries, 4475 to 13135\n",
      "Data columns (total 16 columns):\n",
      " #   Column           Non-Null Count  Dtype  \n",
      "---  ------           --------------  -----  \n",
      " 0   Transaction_ID   2001 non-null   object \n",
      " 1   Country          2001 non-null   object \n",
      " 2   Product          2001 non-null   object \n",
      " 3   Import_Export    2001 non-null   object \n",
      " 4   Quantity         2001 non-null   int64  \n",
      " 5   Value            2001 non-null   float64\n",
      " 6   Date             2001 non-null   object \n",
      " 7   Category         2001 non-null   object \n",
      " 8   Port             2001 non-null   object \n",
      " 9   Customs_Code     2001 non-null   int64  \n",
      " 10  Weight           2001 non-null   float64\n",
      " 11  Shipping_Method  2001 non-null   object \n",
      " 12  Supplier         2001 non-null   object \n",
      " 13  Customer         2001 non-null   object \n",
      " 14  Invoice_Number   2001 non-null   int64  \n",
      " 15  Payment_Terms    2001 non-null   object \n",
      "dtypes: float64(2), int64(3), object(11)\n",
      "memory usage: 265.8+ KB\n"
     ]
    }
   ],
   "source": [
    "#Viewing the information about the columns(Object Types) of the Sampled Data set\n",
    "samData.info()"
   ]
  },
  {
   "cell_type": "code",
   "execution_count": 142,
   "id": "89bba99e-aae3-4db3-9ab7-00f1df230cd2",
   "metadata": {},
   "outputs": [],
   "source": [
    "#Data Variable Category\n",
    "Index_variable = samData[['Transaction_ID', 'Date','Invoice_Number','Customs_Code']]\n",
    "Non_categorical_variable = samData[['Quantity', 'Value', 'Weight']]\n",
    "Categorical_nominal_variable = samData[['Country', 'Product', 'Shipping_Method', 'Supplier', 'Customer', 'Import_Export','Port', 'Category']]\n",
    "Categorical_ordinal_variable = samData[['Payment_Terms']]\n"
   ]
  },
  {
   "cell_type": "code",
   "execution_count": 148,
   "id": "f5396823-e8a5-4fa3-bfa4-0ddc14dc5394",
   "metadata": {},
   "outputs": [
    {
     "data": {
      "text/html": [
       "<div>\n",
       "<style scoped>\n",
       "    .dataframe tbody tr th:only-of-type {\n",
       "        vertical-align: middle;\n",
       "    }\n",
       "\n",
       "    .dataframe tbody tr th {\n",
       "        vertical-align: top;\n",
       "    }\n",
       "\n",
       "    .dataframe thead th {\n",
       "        text-align: right;\n",
       "    }\n",
       "</style>\n",
       "<table border=\"1\" class=\"dataframe\">\n",
       "  <thead>\n",
       "    <tr style=\"text-align: right;\">\n",
       "      <th></th>\n",
       "      <th>Quantity</th>\n",
       "      <th>Value</th>\n",
       "      <th>Weight</th>\n",
       "    </tr>\n",
       "  </thead>\n",
       "  <tbody>\n",
       "    <tr>\n",
       "      <th>count</th>\n",
       "      <td>2001.000000</td>\n",
       "      <td>2001.000000</td>\n",
       "      <td>2001.000000</td>\n",
       "    </tr>\n",
       "    <tr>\n",
       "      <th>mean</th>\n",
       "      <td>4961.306347</td>\n",
       "      <td>5028.538356</td>\n",
       "      <td>2512.297186</td>\n",
       "    </tr>\n",
       "    <tr>\n",
       "      <th>std</th>\n",
       "      <td>2895.453319</td>\n",
       "      <td>2858.375060</td>\n",
       "      <td>1462.513339</td>\n",
       "    </tr>\n",
       "    <tr>\n",
       "      <th>min</th>\n",
       "      <td>11.000000</td>\n",
       "      <td>109.900000</td>\n",
       "      <td>1.520000</td>\n",
       "    </tr>\n",
       "    <tr>\n",
       "      <th>25%</th>\n",
       "      <td>2384.000000</td>\n",
       "      <td>2552.990000</td>\n",
       "      <td>1262.980000</td>\n",
       "    </tr>\n",
       "    <tr>\n",
       "      <th>50%</th>\n",
       "      <td>4946.000000</td>\n",
       "      <td>5016.560000</td>\n",
       "      <td>2475.440000</td>\n",
       "    </tr>\n",
       "    <tr>\n",
       "      <th>75%</th>\n",
       "      <td>7474.000000</td>\n",
       "      <td>7494.420000</td>\n",
       "      <td>3800.390000</td>\n",
       "    </tr>\n",
       "    <tr>\n",
       "      <th>max</th>\n",
       "      <td>9995.000000</td>\n",
       "      <td>9995.580000</td>\n",
       "      <td>4999.930000</td>\n",
       "    </tr>\n",
       "  </tbody>\n",
       "</table>\n",
       "</div>"
      ],
      "text/plain": [
       "          Quantity        Value       Weight\n",
       "count  2001.000000  2001.000000  2001.000000\n",
       "mean   4961.306347  5028.538356  2512.297186\n",
       "std    2895.453319  2858.375060  1462.513339\n",
       "min      11.000000   109.900000     1.520000\n",
       "25%    2384.000000  2552.990000  1262.980000\n",
       "50%    4946.000000  5016.560000  2475.440000\n",
       "75%    7474.000000  7494.420000  3800.390000\n",
       "max    9995.000000  9995.580000  4999.930000"
      ]
     },
     "execution_count": 148,
     "metadata": {},
     "output_type": "execute_result"
    }
   ],
   "source": [
    "# Descriptive Statistics of the Non-Categorical Data\n",
    "Non_categorical_variable.describe()"
   ]
  },
  {
   "cell_type": "code",
   "execution_count": 164,
   "id": "a9d8bbd1-d383-487c-82eb-ef8d43bb3952",
   "metadata": {},
   "outputs": [
    {
     "data": {
      "text/plain": [
       "Country                                    Zimbabwe\n",
       "Product                                    yourself\n",
       "Shipping_Method                                 Sea\n",
       "Supplier           Zimmerman, Anderson and Williams\n",
       "Customer                            Zachary Summers\n",
       "Import_Export                                Import\n",
       "Port                                     Youngville\n",
       "Category                                       Toys\n",
       "dtype: object"
      ]
     },
     "execution_count": 164,
     "metadata": {},
     "output_type": "execute_result"
    }
   ],
   "source": [
    "# Descriptive Statistics of Categorical Data\n",
    "Categorical_nominal_variable.max()"
   ]
  },
  {
   "cell_type": "markdown",
   "id": "52f9d6a1-ac43-48ac-821c-a161a5521e41",
   "metadata": {},
   "source": [
    "## Project Objectives "
   ]
  },
  {
   "cell_type": "markdown",
   "id": "813510a4-8639-4c29-9f22-24bd8c87c7a8",
   "metadata": {},
   "source": [
    "The objective of this project is to conduct a thorough analysis of the sample taken from the import and export data and present findings and inferences."
   ]
  },
  {
   "cell_type": "markdown",
   "id": "541c4950-a31c-4137-92dd-74306760c245",
   "metadata": {},
   "source": [
    "## Analysis and Findings from Sample Data"
   ]
  },
  {
   "cell_type": "code",
   "execution_count": 180,
   "id": "d4f8edbf-b97e-485b-a1dd-0d9cd7e72ce3",
   "metadata": {},
   "outputs": [
    {
     "name": "stdout",
     "output_type": "stream",
     "text": [
      "Total income generated from exports across all countries: 4980215.92\n"
     ]
    }
   ],
   "source": [
    "# 1. What is the total export value across all countries?\n",
    "\n",
    "total_export_value = samData.loc[samData['Import_Export'] == 'Export', 'Value'].astype(float).sum()\n",
    "print(f\"Total income generated from exports across all countries: {total_export_value}\")"
   ]
  },
  {
   "cell_type": "code",
   "execution_count": 770,
   "id": "20450bbc-460d-4a64-8674-13d3653243c5",
   "metadata": {},
   "outputs": [
    {
     "name": "stdout",
     "output_type": "stream",
     "text": [
      "Total income generated from exports across all countries: 4872646.0\n"
     ]
    }
   ],
   "source": [
    "#1.1 What is the total exported quantity across all countries?\n",
    "total_export_quantity = samData.loc[samData['Import_Export'] == 'Export', 'Quantity'].astype(float).sum()\n",
    "print(f\"Total income generated from exports across all countries: {total_export_quantity}\")"
   ]
  },
  {
   "cell_type": "code",
   "execution_count": 182,
   "id": "bbc665ed-739b-41f0-bbb9-a04a32bb1a1a",
   "metadata": {},
   "outputs": [
    {
     "name": "stdout",
     "output_type": "stream",
     "text": [
      "Total import value across all countries: 5081889.33\n"
     ]
    }
   ],
   "source": [
    "# 2. What is the total import value across all countries?\n",
    "total_import_value = samData.loc[samData['Import_Export'] == 'Import', 'Value'].astype(float).sum()\n",
    "print(f\"Total import value across all countries: {total_import_value}\")"
   ]
  },
  {
   "cell_type": "code",
   "execution_count": 776,
   "id": "99c8de3c-d6be-4f98-a9b6-e207b201cd07",
   "metadata": {},
   "outputs": [
    {
     "name": "stdout",
     "output_type": "stream",
     "text": [
      "Total income generated from exports across all countries: 5054928.0\n"
     ]
    }
   ],
   "source": [
    "#2.1 What is the total imported quantity across all countries?\n",
    "total_import_quantity = samData.loc[samData['Import_Export'] == 'Import', 'Quantity'].astype(float).sum()\n",
    "print(f\"Total income generated from exports across all countries: {total_import_quantity}\")"
   ]
  },
  {
   "cell_type": "code",
   "execution_count": 194,
   "id": "1cf107c1-71bc-484b-a486-0c1aee188857",
   "metadata": {},
   "outputs": [
    {
     "name": "stdout",
     "output_type": "stream",
     "text": [
      "Net Loss incurred from trade of goods:101673.41\n"
     ]
    }
   ],
   "source": [
    "#3 Net Gain or Loss from exports and imports over the given time period.\n",
    "if total_export_value>total_import_value:\n",
    "    print(f\"Net Income gained from trade of goods:{total_export_value-total_import_value:.2f}\")\n",
    "else:\n",
    "    print(f\"Net Loss incurred from trade of goods:{total_import_value-total_export_value:.2f}\")"
   ]
  },
  {
   "cell_type": "code",
   "execution_count": 655,
   "id": "4f2686db-dacc-4e57-a2c8-9eb0f06b624f",
   "metadata": {},
   "outputs": [
    {
     "name": "stdout",
     "output_type": "stream",
     "text": [
      "Month with the highest value of trade :\n",
      "Year       2020.00\n",
      "Month        12.00\n",
      "Value    240828.85\n",
      "Name: 15, dtype: float64\n",
      "\n",
      "Dip Month:\n",
      "Year      2024.00\n",
      "Month        9.00\n",
      "Value    52880.45\n",
      "Name: 60, dtype: float64\n"
     ]
    }
   ],
   "source": [
    "# 3. What are the months where trading peaks and dips?\n",
    "\n",
    "samData['Date'] = pd.to_datetime(samData['Date'], errors='coerce')\n",
    "\n",
    "# Check if conversion was successful\n",
    "if samData['Date'].isnull().any():\n",
    "    print(\"There were some errors in converting dates. Please check your data.\")\n",
    "\n",
    "samData['Year'] = samData['Date'].dt.year\n",
    "samData['Month'] = samData['Date'].dt.month\n",
    "\n",
    "# Group by Year and Month and calculate the sum of TradeVolume for each month\n",
    "monthly_trade = samData.groupby(['Year', 'Month'])['Value'].sum().reset_index()\n",
    "\n",
    "# Find the peak and dip months\n",
    "peak_month = monthly_trade.loc[monthly_trade['Value'].idxmax()]\n",
    "dip_month = monthly_trade.loc[monthly_trade['Value'].idxmin()]\n",
    "\n",
    "print(\"Month with the highest value of trade :\")\n",
    "print(peak_month)\n",
    "\n",
    "print(\"\\nDip Month:\")\n",
    "print(dip_month)"
   ]
  },
  {
   "cell_type": "code",
   "execution_count": 758,
   "id": "ddf808af-794f-44c4-a250-305a57b2c6c1",
   "metadata": {},
   "outputs": [
    {
     "data": {
      "text/plain": [
       "Country\n",
       "Brazil                         8131.000000\n",
       "French Southern Territories    7782.428571\n",
       "Mongolia                       7777.000000\n",
       "China                          7764.000000\n",
       "Nicaragua                      7438.833333\n",
       "Name: Quantity, dtype: float64"
      ]
     },
     "execution_count": 758,
     "metadata": {},
     "output_type": "execute_result"
    }
   ],
   "source": [
    "#4.1  Which countries have the highest average quantity per transaction, and how does this affect total value?\n",
    "samData.groupby('Country')['Quantity'].mean().sort_values(ascending=False).head()"
   ]
  },
  {
   "cell_type": "code",
   "execution_count": 760,
   "id": "d6164504-7527-4008-ba84-45ab341601cd",
   "metadata": {},
   "outputs": [
    {
     "name": "stdout",
     "output_type": "stream",
     "text": [
      "Country with the highest number of transactions by quantity:\n",
      "Country        Korea\n",
      "Quantity      100901\n",
      "Value       90017.51\n",
      "Name: 114, dtype: object\n"
     ]
    }
   ],
   "source": [
    "#4.2 Which country has the highest number of transactions by quantity, and what is its total transaction value?\n",
    "\n",
    "country_agg = samData.groupby('Country').agg({\n",
    "    'Quantity': 'sum',\n",
    "    'Value': 'sum'\n",
    "}).reset_index()\n",
    "\n",
    "# Find the country with the highest number of transactions by quantity\n",
    "max_quantity_country = country_agg.loc[country_agg['Quantity'].idxmax()]\n",
    "\n",
    "print(\"Country with the highest number of transactions by quantity:\")\n",
    "print(max_quantity_country[['Country', 'Quantity', 'Value']])"
   ]
  },
  {
   "cell_type": "code",
   "execution_count": 822,
   "id": "8ab4992d-4b15-4aff-a905-271864682f12",
   "metadata": {},
   "outputs": [
    {
     "data": {
      "text/plain": [
       "Country\n",
       "Korea                       64008.74\n",
       "Finland                     54909.86\n",
       "Northern Mariana Islands    50698.75\n",
       "Name: Value, dtype: float64"
      ]
     },
     "execution_count": 822,
     "metadata": {},
     "output_type": "execute_result"
    }
   ],
   "source": [
    "# 5.Which country is the largest importer and the largest exporter by quantity and total transaction value?\n",
    "exportdata = samData[samData['Import_Export']=='Export']\n",
    "exportdata.groupby('Country')['Value'].sum().sort_values(ascending=False).head(3)"
   ]
  },
  {
   "cell_type": "markdown",
   "id": "1bd645ad-14d0-4141-8018-fd8043c6e003",
   "metadata": {},
   "source": [
    "Korea is the country that exports the most, with a total export value of 64009."
   ]
  },
  {
   "cell_type": "code",
   "execution_count": 824,
   "id": "88fea07b-aa9b-4ef6-bdfa-f5505cb2e1b9",
   "metadata": {},
   "outputs": [
    {
     "data": {
      "text/plain": [
       "Country\n",
       "Portugal        52704.69\n",
       "Saint Martin    52339.96\n",
       "Algeria         50247.60\n",
       "Name: Value, dtype: float64"
      ]
     },
     "execution_count": 824,
     "metadata": {},
     "output_type": "execute_result"
    }
   ],
   "source": [
    "importdata = samData[samData['Import_Export']=='Import']\n",
    "importdata.groupby('Country')['Value'].sum().sort_values(ascending=False).head(3)"
   ]
  },
  {
   "cell_type": "markdown",
   "id": "b1b1919c-e54a-4995-ae49-9890640ee7d0",
   "metadata": {},
   "source": [
    "Portugal is the country that imports the most, with a total import value of 52705."
   ]
  },
  {
   "cell_type": "code",
   "execution_count": 665,
   "id": "526cdf5a-6fe7-406f-ac3a-566e6310fefe",
   "metadata": {},
   "outputs": [
    {
     "data": {
      "text/plain": [
       "Country\n",
       "Indonesia       8344.988333\n",
       "Sri Lanka       8276.500000\n",
       "Togo            7733.795000\n",
       "Vanuatu         7306.981250\n",
       "Saint Martin    7234.653750\n",
       "Name: Value, dtype: float64"
      ]
     },
     "execution_count": 665,
     "metadata": {},
     "output_type": "execute_result"
    }
   ],
   "source": [
    "#6 Which countries have the highest average transaction value?\n",
    "samData.groupby('Country')['Value'].mean().sort_values(ascending=False).head()"
   ]
  },
  {
   "cell_type": "code",
   "execution_count": 667,
   "id": "2ba55a91-6e25-44f2-8e24-82beed6eaa09",
   "metadata": {},
   "outputs": [
    {
     "name": "stdout",
     "output_type": "stream",
     "text": [
      "The most valuable product category is:\n",
      "Category\n",
      "Furniture    2158053.94\n",
      "Name: Value, dtype: float64\n"
     ]
    }
   ],
   "source": [
    "#7 What are the biggest product category that are being traded, by transaction value?\n",
    "samData.groupby('Category')['Value'].sum().sort_values(ascending = False)\n",
    "\n",
    "print(\"The most valuable product category is:\")\n",
    "print(samData.groupby('Category')['Value'].sum().sort_values(ascending = False).head(1))"
   ]
  },
  {
   "cell_type": "code",
   "execution_count": 669,
   "id": "c0c8cd4e-87e8-4063-897c-6a03c5717363",
   "metadata": {},
   "outputs": [
    {
     "name": "stdout",
     "output_type": "stream",
     "text": [
      "Category\n",
      "Clothing    416\n",
      "Name: Quantity, dtype: int64\n"
     ]
    }
   ],
   "source": [
    "#8 What is the most traded product category, quantity wise?\n",
    "print(samData.groupby('Category')['Quantity'].count().sort_values(ascending = False).head(1))"
   ]
  },
  {
   "cell_type": "code",
   "execution_count": 671,
   "id": "c06d197a-4c31-4cbd-96fe-cf063c973299",
   "metadata": {},
   "outputs": [
    {
     "data": {
      "text/plain": [
       "Category\n",
       "Furniture      5200.129976\n",
       "Electronics    5128.039120\n",
       "Clothing       4961.345938\n",
       "Machinery      4932.943368\n",
       "Toys           4903.529974\n",
       "Name: Value, dtype: float64"
      ]
     },
     "execution_count": 671,
     "metadata": {},
     "output_type": "execute_result"
    }
   ],
   "source": [
    "#9 What is the average value of transaction of each product category?\n",
    "samData.groupby('Category')['Value'].mean().sort_values(ascending = False)"
   ]
  },
  {
   "cell_type": "code",
   "execution_count": 673,
   "id": "0d56a561-cde5-4455-b850-587b3078f78b",
   "metadata": {},
   "outputs": [
    {
     "data": {
      "text/plain": [
       "Category     Import_Export\n",
       "Furniture    Import           1113907.99\n",
       "Clothing     Import           1081041.30\n",
       "Electronics  Import            995165.47\n",
       "Machinery    Import            979375.52\n",
       "Toys         Import            912399.05\n",
       "Name: Value, dtype: float64"
      ]
     },
     "execution_count": 673,
     "metadata": {},
     "output_type": "execute_result"
    }
   ],
   "source": [
    "#10 Bifurcate the most valuable product categories on the basis of export and import.\n",
    "samData[samData['Import_Export'] == 'Import'].groupby(['Category','Import_Export'])['Value'].sum().sort_values(ascending = False)"
   ]
  },
  {
   "cell_type": "markdown",
   "id": "ee423041-8f11-4171-8cb5-a5869447a02b",
   "metadata": {},
   "source": [
    "The most imported product category on the basis of transaction value is Furniture."
   ]
  },
  {
   "cell_type": "code",
   "execution_count": 676,
   "id": "5365b216-1ae0-4de3-93e2-b0b2e57b027b",
   "metadata": {},
   "outputs": [
    {
     "data": {
      "text/plain": [
       "Category     Import_Export\n",
       "Electronics  Export           1102202.53\n",
       "Furniture    Export           1044145.95\n",
       "Clothing     Export            982878.61\n",
       "Toys         Export            955845.87\n",
       "Machinery    Export            895142.96\n",
       "Name: Value, dtype: float64"
      ]
     },
     "execution_count": 676,
     "metadata": {},
     "output_type": "execute_result"
    }
   ],
   "source": [
    "samData[samData['Import_Export'] == 'Export'].groupby(['Category','Import_Export'])['Value'].sum().sort_values(ascending = False)"
   ]
  },
  {
   "cell_type": "markdown",
   "id": "227f627a-5148-460c-927b-de5092e2380a",
   "metadata": {},
   "source": [
    "The most exported product category on the basis of transaction value is Electronics."
   ]
  },
  {
   "cell_type": "code",
   "execution_count": 679,
   "id": "a23d7095-8f32-4070-8745-c95cc3af6979",
   "metadata": {},
   "outputs": [
    {
     "data": {
      "text/plain": [
       "Category\n",
       "Electronics    31641.16\n",
       "Clothing       21335.03\n",
       "Furniture      20878.35\n",
       "Toys           12646.11\n",
       "Machinery       3516.86\n",
       "Name: Value, dtype: float64"
      ]
     },
     "execution_count": 679,
     "metadata": {},
     "output_type": "execute_result"
    }
   ],
   "source": [
    "#11 What product category does Korea trade the most, as the country that has the biggest transaction value and the biggest exporter?\n",
    "samData[samData['Country']=='Korea'].groupby('Category')['Value'].sum().sort_values(ascending = False)"
   ]
  },
  {
   "cell_type": "markdown",
   "id": "e1e4b89d-2b06-4614-95d6-7ac264dc668b",
   "metadata": {},
   "source": [
    "While Furniture is the category of good that is being traded the most, Korea operates the most in the category of electronics.\n",
    "It can also be seen that while Korea has a decent value of trade in most categories, there is a significant drop when in comes to trade of Machineries."
   ]
  },
  {
   "cell_type": "code",
   "execution_count": 682,
   "id": "f425c2e4-83da-4348-87aa-e1a623680a37",
   "metadata": {},
   "outputs": [
    {
     "data": {
      "text/plain": [
       "Category\n",
       "Furniture      32281.10\n",
       "Clothing       24815.79\n",
       "Electronics     9376.03\n",
       "Toys            1680.14\n",
       "Machinery       1293.64\n",
       "Name: Value, dtype: float64"
      ]
     },
     "execution_count": 682,
     "metadata": {},
     "output_type": "execute_result"
    }
   ],
   "source": [
    "#12  What product category does Portugal trade the most, as the country that is the biggest importer?\n",
    "samData[samData['Country']=='Portugal'].groupby('Category')['Value'].sum().sort_values(ascending = False)"
   ]
  },
  {
   "cell_type": "markdown",
   "id": "8624886f-37d9-42e0-b6ed-55b061ab963e",
   "metadata": {},
   "source": [
    "Portugal trades mostly in Furniture and Clothing, with Furniture being it's biggest category. However there is a significant drop off in trade value first with Electronics, then further with Toys and Machinery."
   ]
  },
  {
   "cell_type": "code",
   "execution_count": 685,
   "id": "2c4d3aa1-9e60-4bdf-a7b5-36a2c877d4ac",
   "metadata": {},
   "outputs": [
    {
     "data": {
      "text/plain": [
       "Shipping_Method\n",
       "Sea     678\n",
       "Land    676\n",
       "Air     647\n",
       "Name: Country, dtype: int64"
      ]
     },
     "execution_count": 685,
     "metadata": {},
     "output_type": "execute_result"
    }
   ],
   "source": [
    "#13 What is the preferred shipping method?\n",
    "samData.groupby('Shipping_Method')['Country'].count().sort_values(ascending = False)\n"
   ]
  },
  {
   "cell_type": "code",
   "execution_count": 687,
   "id": "5f6d8adb-ccd9-4914-a2a3-c83fc83f4af7",
   "metadata": {},
   "outputs": [
    {
     "data": {
      "text/plain": [
       "Shipping_Method\n",
       "Sea     345\n",
       "Air     340\n",
       "Land    306\n",
       "Name: Country, dtype: int64"
      ]
     },
     "execution_count": 687,
     "metadata": {},
     "output_type": "execute_result"
    }
   ],
   "source": [
    "#14 What is the preferred shipping method on the basis of import and export?\n",
    "exportdata.groupby('Shipping_Method')['Country'].count().sort_values(ascending = False)"
   ]
  },
  {
   "cell_type": "code",
   "execution_count": 689,
   "id": "324b5c10-0e5b-4c2a-a42f-41b5687ec65a",
   "metadata": {},
   "outputs": [
    {
     "data": {
      "text/plain": [
       "Shipping_Method\n",
       "Land    370\n",
       "Sea     333\n",
       "Air     307\n",
       "Name: Country, dtype: int64"
      ]
     },
     "execution_count": 689,
     "metadata": {},
     "output_type": "execute_result"
    }
   ],
   "source": [
    "importdata.groupby('Shipping_Method')['Country'].count().sort_values(ascending = False)"
   ]
  },
  {
   "cell_type": "code",
   "execution_count": 691,
   "id": "431ddeab-e0c7-4c81-a244-f46b4baa3eca",
   "metadata": {},
   "outputs": [
    {
     "data": {
      "text/plain": [
       "Shipping_Method\n",
       "Sea     3590442.32\n",
       "Land    3339551.19\n",
       "Air     3132111.74\n",
       "Name: Value, dtype: float64"
      ]
     },
     "execution_count": 691,
     "metadata": {},
     "output_type": "execute_result"
    }
   ],
   "source": [
    "#15 What is the value of goods being shipped by land, air and sea?\n",
    "samData.groupby('Shipping_Method')['Value'].sum().sort_values(ascending = False)"
   ]
  },
  {
   "cell_type": "code",
   "execution_count": 693,
   "id": "0bcd79c4-4fa5-4c6e-8129-22165ee8ec1c",
   "metadata": {},
   "outputs": [
    {
     "name": "stdout",
     "output_type": "stream",
     "text": [
      "For goods shipped by air, the most traded category is:\n",
      " Category\n",
      "Furniture    691579.19\n",
      "Name: Value, dtype: float64\n",
      "\n",
      "For goods shipped by sea, the most traded category is:\n",
      " Category\n",
      "Electronics    781741.92\n",
      "Name: Value, dtype: float64\n",
      "\n",
      "For goods shipped by Land, the most traded category is:\n",
      " Category\n",
      "Electronics    737393.56\n",
      "Name: Value, dtype: float64\n"
     ]
    }
   ],
   "source": [
    "#16 For each shipping method, what is the most preferred product category?\n",
    "print(\"For goods shipped by air, the most traded category is:\\n\"\n",
    "      ,samData[samData['Shipping_Method']=='Air'].groupby('Category')['Value'].sum().sort_values(ascending = False).head(1))\n",
    "\n",
    "print(\"\\nFor goods shipped by sea, the most traded category is:\\n\",\n",
    "      samData[samData['Shipping_Method']=='Sea'].groupby('Category')['Value'].sum().sort_values(ascending = False).head(1))\n",
    "\n",
    "print(\"\\nFor goods shipped by Land, the most traded category is:\\n\"\n",
    "      ,samData[samData['Shipping_Method']=='Land'].groupby('Category')['Value'].sum().sort_values(ascending = False).head(1))\n"
   ]
  },
  {
   "cell_type": "code",
   "execution_count": 695,
   "id": "ed686612-2e8c-4f66-bc04-bf294884655e",
   "metadata": {},
   "outputs": [
    {
     "data": {
      "text/plain": [
       "Port\n",
       "Brendamouth    9995.58\n",
       "Name: Value, dtype: float64"
      ]
     },
     "execution_count": 695,
     "metadata": {},
     "output_type": "execute_result"
    }
   ],
   "source": [
    "#17 What is the most valuable port?\n",
    "samData.groupby('Port')['Value'].mean().sort_values(ascending = False).head(1)"
   ]
  },
  {
   "cell_type": "code",
   "execution_count": 756,
   "id": "94255417-204f-4042-bd5c-af14cdbe19dc",
   "metadata": {},
   "outputs": [
    {
     "data": {
      "text/plain": [
       "Port\n",
       "Lake Michael    28846.73\n",
       "Name: Value, dtype: float64"
      ]
     },
     "execution_count": 756,
     "metadata": {},
     "output_type": "execute_result"
    }
   ],
   "source": [
    "#18 What is the port with the biggest transaction value?\n",
    "samData.groupby('Port')['Value'].sum().sort_values(ascending = False).head(1)"
   ]
  },
  {
   "cell_type": "code",
   "execution_count": 699,
   "id": "75af37b2-bd1c-4a60-b466-9ee29b304a8c",
   "metadata": {},
   "outputs": [
    {
     "data": {
      "text/plain": [
       "Supplier\n",
       "Smith Ltd    4\n",
       "Name: Value, dtype: int64"
      ]
     },
     "execution_count": 699,
     "metadata": {},
     "output_type": "execute_result"
    }
   ],
   "source": [
    "#19 Which supplier has the most transactions?\n",
    "samData.groupby('Supplier')['Value'].count().sort_values(ascending = False).head(1)"
   ]
  },
  {
   "cell_type": "code",
   "execution_count": 701,
   "id": "8bb5ebb4-72e6-4321-b324-879dd1540f40",
   "metadata": {},
   "outputs": [
    {
     "data": {
      "text/plain": [
       "Weight    2512.297186\n",
       "dtype: float64"
      ]
     },
     "execution_count": 701,
     "metadata": {},
     "output_type": "execute_result"
    }
   ],
   "source": [
    "#20 What is the mean weight of trade?\n",
    "samData[['Weight']].mean()"
   ]
  },
  {
   "cell_type": "code",
   "execution_count": 703,
   "id": "f5bc7920-c4ba-4cff-ae50-8ac2f18ada47",
   "metadata": {},
   "outputs": [
    {
     "data": {
      "text/plain": [
       "Shipping_Method\n",
       "Sea     2552.361844\n",
       "Air     2523.170665\n",
       "Land    2461.706982\n",
       "Name: Weight, dtype: float64"
      ]
     },
     "execution_count": 703,
     "metadata": {},
     "output_type": "execute_result"
    }
   ],
   "source": [
    "#21 What is the mean weight of trade for each shipping method?\n",
    "samData.groupby('Shipping_Method')['Weight'].mean().sort_values(ascending = False)"
   ]
  },
  {
   "cell_type": "code",
   "execution_count": 705,
   "id": "c9af2c02-e6e1-42dc-8f50-7b77aeaea92c",
   "metadata": {},
   "outputs": [
    {
     "data": {
      "text/plain": [
       "Category\n",
       "Toys           2575.875302\n",
       "Clothing       2575.574183\n",
       "Machinery      2480.891868\n",
       "Furniture      2468.338627\n",
       "Electronics    2462.493594\n",
       "Name: Weight, dtype: float64"
      ]
     },
     "execution_count": 705,
     "metadata": {},
     "output_type": "execute_result"
    }
   ],
   "source": [
    "#22 What is the mean weight for each product category?\n",
    "samData.groupby('Category')['Weight'].mean().sort_values(ascending = False)"
   ]
  },
  {
   "cell_type": "code",
   "execution_count": 707,
   "id": "cce289cd-f02f-436a-8748-01bbd326a421",
   "metadata": {},
   "outputs": [
    {
     "data": {
      "text/plain": [
       "Transaction_ID     5eefe32c-78d5-46b2-a713-facc4b88b15e\n",
       "Country                                         Namibia\n",
       "Product                                            land\n",
       "Import_Export                                    Import\n",
       "Quantity                                           2993\n",
       "Value                                           9995.58\n",
       "Date                                2020-07-10 00:00:00\n",
       "Category                                    Electronics\n",
       "Port                                        Brendamouth\n",
       "Customs_Code                                     960615\n",
       "Weight                                          1891.43\n",
       "Shipping_Method                                    Land\n",
       "Supplier                     Moore, Walker and Williams\n",
       "Customer                                  Michael Brown\n",
       "Invoice_Number                                 69884930\n",
       "Payment_Terms                                   Prepaid\n",
       "Year                                               2020\n",
       "Month                                                 7\n",
       "Name: 12892, dtype: object"
      ]
     },
     "execution_count": 707,
     "metadata": {},
     "output_type": "execute_result"
    }
   ],
   "source": [
    "#23. Biggest Transaction in the sample data\n",
    "samData.loc[samData['Value'].idxmax()]"
   ]
  },
  {
   "cell_type": "code",
   "execution_count": 709,
   "id": "b5ef4de5-5342-4acd-bdb0-b882e0d1428e",
   "metadata": {},
   "outputs": [
    {
     "data": {
      "text/plain": [
       "Payment_Terms\n",
       "Cash on Delivery    536\n",
       "Net 30              473\n",
       "Net 60              505\n",
       "Prepaid             487\n",
       "Name: Country, dtype: int64"
      ]
     },
     "execution_count": 709,
     "metadata": {},
     "output_type": "execute_result"
    }
   ],
   "source": [
    "#24 Bifurcation of transactions by payment terms\n",
    "samData.groupby('Payment_Terms')['Country'].count()"
   ]
  },
  {
   "cell_type": "code",
   "execution_count": 736,
   "id": "44ebc0c9-3b24-4101-afc2-922bf74ba535",
   "metadata": {},
   "outputs": [
    {
     "data": {
      "text/plain": [
       "Payment_Terms\n",
       "Cash on Delivery    2743229.24\n",
       "Net 30              2441414.71\n",
       "Net 60              2379178.84\n",
       "Prepaid             2498282.46\n",
       "Name: Value, dtype: float64"
      ]
     },
     "execution_count": 736,
     "metadata": {},
     "output_type": "execute_result"
    }
   ],
   "source": [
    "samData.groupby('Payment_Terms')['Value'].sum()"
   ]
  },
  {
   "cell_type": "code",
   "execution_count": 738,
   "id": "83355114-a3d6-4d0d-834b-c889b9da1666",
   "metadata": {},
   "outputs": [
    {
     "data": {
      "text/plain": [
       "Payment_Terms\n",
       "Cash on Delivery    5117.965000\n",
       "Net 30              5161.553298\n",
       "Net 60              4711.245228\n",
       "Prepaid             5129.943450\n",
       "Name: Value, dtype: float64"
      ]
     },
     "execution_count": 738,
     "metadata": {},
     "output_type": "execute_result"
    }
   ],
   "source": [
    "samData.groupby('Payment_Terms')['Value'].mean()"
   ]
  },
  {
   "cell_type": "code",
   "execution_count": 764,
   "id": "c65ef7a2-9dad-409d-b956-cafbc702c830",
   "metadata": {
    "scrolled": true
   },
   "outputs": [
    {
     "name": "stdout",
     "output_type": "stream",
     "text": [
      "T-Test Results between Import and Export Categories\n",
      "T-statistic: 0.047936664986846775\n",
      "P-value: 0.9617715113704851\n",
      "There is no statistically significant difference in average Transaction Value between Import and Export categories.\n"
     ]
    }
   ],
   "source": [
    "#25 Is there a statistically significant average Transaction Value of import and export.\n",
    "from scipy import stats\n",
    "import_data = samData[samData['Import_Export'] == 'Import']['Value']\n",
    "export_data = samData[samData['Import_Export'] == 'Export']['Value']\n",
    "t_stat, p_value = stats.ttest_ind(import_data, export_data, equal_var=False)  # equal_var=False for Welch's T-test (more robust for unequal variances)\n",
    "\n",
    "print(\"T-Test Results between Import and Export Categories\")\n",
    "print(f\"T-statistic: {t_stat}\")\n",
    "print(f\"P-value: {p_value}\")\n",
    "\n",
    "\n",
    "if p_value < 0.05:\n",
    "    print(\"There is a statistically significant difference in average Transaction Value between Import and Export categories.\")\n",
    "else:\n",
    "    print(\"There is no statistically significant difference in average Transaction Value between Import and Export categories.\")"
   ]
  },
  {
   "cell_type": "code",
   "execution_count": 742,
   "id": "9b8c9a87-566a-490e-b2f4-ed56c3bcbdd8",
   "metadata": {},
   "outputs": [
    {
     "name": "stdout",
     "output_type": "stream",
     "text": [
      "ANOVA Test Results for Shipping Methods\n",
      "F-statistic: 4.693382032898953\n",
      "P-value: 0.009256849638839918\n",
      "There is a statistically significant difference in average Transaction Value across the three shipping methods.\n"
     ]
    }
   ],
   "source": [
    "#26 Is there a signifcant difference in average Transaction Value across the shipping methods?\n",
    "\n",
    "shipping_air = samData[samData['Shipping_Method'] == 'Air']['Value']\n",
    "shipping_sea = samData[samData['Shipping_Method'] == 'Sea']['Value']\n",
    "shipping_land = samData[samData['Shipping_Method'] == 'Land']['Value']\n",
    "\n",
    "f_statistic, p_value = stats.f_oneway(shipping_air, shipping_sea, shipping_land)\n",
    "print(\"ANOVA Test Results for Shipping Methods\")\n",
    "print(f\"F-statistic: {f_statistic}\")\n",
    "print(f\"P-value: {p_value}\")\n",
    "\n",
    "\n",
    "if p_value < 0.05:\n",
    "    print(\"There is a statistically significant difference in average Transaction Value across the three shipping methods.\")\n",
    "else:\n",
    "    print(\"There is no statistically significant difference in average Transaction Value across the three shipping methods.\")"
   ]
  },
  {
   "cell_type": "code",
   "execution_count": 790,
   "id": "b5389616-55c4-44f7-b083-e6653edee30c",
   "metadata": {},
   "outputs": [
    {
     "name": "stdout",
     "output_type": "stream",
     "text": [
      "ANOVA Test Results\n",
      "F-statistic: 0.6765023653090835\n",
      "P-value: 0.5085084674151488\n",
      "There is no statistically significant difference in weight across different shipping methods.\n"
     ]
    }
   ],
   "source": [
    "#27 Is there a significant difference \n",
    "shipping_methods = samData['Shipping_Method'].unique()\n",
    "weights_by_method = [samData[samData['Shipping_Method'] == method]['Weight'] for method in shipping_methods]\n",
    "f_statistic, p_value = stats.f_oneway(*weights_by_method)\n",
    "print(\"ANOVA Test Results\")\n",
    "print(f\"F-statistic: {f_statistic}\")\n",
    "print(f\"P-value: {p_value}\")\n",
    "if p_value < 0.05:\n",
    "    print(\"There is a statistically significant difference in weight across different shipping methods.\")\n",
    "else:\n",
    "    print(\"There is no statistically significant difference in weight across different shipping methods.\")"
   ]
  },
  {
   "cell_type": "code",
   "execution_count": 817,
   "id": "3a805179-c78b-45a7-822d-da6f924369e1",
   "metadata": {},
   "outputs": [
    {
     "name": "stdout",
     "output_type": "stream",
     "text": [
      "Weight Summary Statistics by Shipping Method:\n",
      "  Shipping_Method  Average_Weight  Total_Weight\n",
      "0             Air     2523.170665    1632491.42\n",
      "1            Land     2461.706982    1664113.92\n",
      "2             Sea     2552.361844    1730501.33\n",
      "\n",
      "ANOVA Test Results\n",
      "F-statistic: 0.6765023653090835\n",
      "P-value: 0.5085084674151488\n",
      "There is no statistically significant difference in weight across different shipping methods.\n"
     ]
    }
   ],
   "source": [
    "#28 Is there a significant difference between weights of transaction in different shipping methods?\n",
    "weight_summary = samData.groupby('Shipping_Method')['Weight'].agg(['mean', 'sum']).reset_index()\n",
    "weight_summary.columns = ['Shipping_Method', 'Average_Weight', 'Total_Weight']\n",
    "\n",
    "\n",
    "print(\"Weight Summary Statistics by Shipping Method:\")\n",
    "print(weight_summary)\n",
    "\n",
    "shipping_methods = samData['Shipping_Method'].unique()\n",
    "\n",
    "# Create a list of weight data for each shipping method\n",
    "weights_by_method = [samData[samData['Shipping_Method'] == method]['Weight'] for method in shipping_methods]\n",
    "\n",
    "# Step 3: Perform ANOVA Test\n",
    "f_statistic, p_value = stats.f_oneway(*weights_by_method)\n",
    "\n",
    "# Print ANOVA results\n",
    "print(\"\\nANOVA Test Results\")\n",
    "print(f\"F-statistic: {f_statistic}\")\n",
    "print(f\"P-value: {p_value}\")\n",
    "\n",
    "# Interpretation of the ANOVA result\n",
    "if p_value < 0.05:\n",
    "    print(\"There is a statistically significant difference in weight across different shipping methods.\")\n",
    "else:\n",
    "    print(\"There is no statistically significant difference in weight across different shipping methods.\")"
   ]
  },
  {
   "cell_type": "markdown",
   "id": "5aebafe3-5586-49c6-9178-65f1a1b24abe",
   "metadata": {},
   "source": [
    "## Managerial Insights"
   ]
  },
  {
   "cell_type": "markdown",
   "id": "5e16c4d6-f751-4702-ad30-486f693f203f",
   "metadata": {},
   "source": [
    "1. There is currently a net loss due to the higher value of imports over exports, managerial focus should be on gaining a stronghold and converting it into a profit by increasing exports.\n",
    "2. The countries to focus on as big players are Korea, Portugal, Finland, and Algeria.\n",
    "3. There is a significant difference in the countries that are the absolute trade leaders and the countries with a higher average transaction value, those countries should be targeted and focused on.\n",
    "4. Our Most valuable product category is Furniture, based on both, absolute and average transaction values. This can be converted into a cash cow by further improving quantity and gaining a higher market share.\n",
    "5. Portugal trades mostly in Furniture and Clothing, with Furniture being its biggest category. However there is a significant drop off in trade value first with Electronics, then further with Toys and Machinery.\n",
    "6. Furniture is the category of goods that is being traded the most, Korea operates the most in the category of electronics. It can also be seen that while Korea has a decent trade value in most categories, there is a significant drop in trade of machinery.\n",
    "7. There is a statistically significant difference in average Transaction Value across the three shipping methods, where the transaction through \"Sea\" is the maximum and the transaction through \"Air\" being the lowest."
   ]
  },
  {
   "cell_type": "code",
   "execution_count": null,
   "id": "c2f59581-05e0-4d51-8695-8efc37cbf3a3",
   "metadata": {},
   "outputs": [],
   "source": []
  }
 ],
 "metadata": {
  "kernelspec": {
   "display_name": "Python 3 (ipykernel)",
   "language": "python",
   "name": "python3"
  },
  "language_info": {
   "codemirror_mode": {
    "name": "ipython",
    "version": 3
   },
   "file_extension": ".py",
   "mimetype": "text/x-python",
   "name": "python",
   "nbconvert_exporter": "python",
   "pygments_lexer": "ipython3",
   "version": "3.12.4"
  }
 },
 "nbformat": 4,
 "nbformat_minor": 5
}
