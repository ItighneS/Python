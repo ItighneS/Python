{
 "cells": [
  {
   "cell_type": "markdown",
   "id": "f3d6ea8a-3ff7-414c-8758-c81e3b181037",
   "metadata": {},
   "source": [
    "# Trade Data Exploration and Analysis"
   ]
  },
  {
   "cell_type": "markdown",
   "id": "8e239155-4b8e-4127-974f-d7c744c48d10",
   "metadata": {},
   "source": [
    "# Trade Data Exploration and Analysis"
   ]
  },
  {
   "cell_type": "markdown",
   "id": "bc54065c-ea2b-4dad-a65b-b7160d7bf8e9",
   "metadata": {},
   "source": [
    "Group Number 8 : Itighne Sinha (055015) | Suvra Datta Banik (055049)"
   ]
  },
  {
   "cell_type": "markdown",
   "id": "bbb60e50-50b9-4e8e-a559-f714448f6ff1",
   "metadata": {},
   "source": [
    "Project Title | Student Name(s) | Enrollment Number(s) | Group Number(s)"
   ]
  },
  {
   "cell_type": "markdown",
   "id": "111951ce-bf5a-4848-a61e-22376d80ea78",
   "metadata": {},
   "source": [
    "## Description"
   ]
  },
  {
   "cell_type": "markdown",
   "id": "bfdff03b-6faa-4a1d-9da7-134ab3236b0c",
   "metadata": {},
   "source": [
    "-   This dataset provides detailed information on international trade transactions, capturing both import and export activities. It includes comprehensive data on various aspects of trade, making it a valuable resource for business analysis, economic research, and financial modeling.\n",
    "-   Type : Panel\n",
    "-   Source: https://www.kaggle.com/datasets/chakilamvishwas/imports-exports-15000. (2.69 MB)\n",
    "-   Dimensions : (Observation,Variable) - (15,000,16)\n",
    "-   Variable Category:\n",
    "    1. Index_variable = Transaction ID, Date, Invoice Number, Customs Code.\n",
    "    2. Non_categorical_variable = Quantity, Value, Weight.\n",
    "    3. Categorical_nominal_variable = Country, Product, Shipping Method, Supplier, Customer, Import Export, Port, Category.\n",
    "    4. Categorical_ordinal_variable = Payment Terms\n",
    "       \n",
    "\n",
    "- Data Variable Info:\n",
    "    1. Text: 10\n",
    "    2. Number: 5\n",
    "    3. Date: 1\r\n"
   ]
  },
  {
   "cell_type": "markdown",
   "id": "2bcc8494-ed8d-45f2-aa9b-39a123f3452c",
   "metadata": {},
   "source": [
    "## FINDINGS:"
   ]
  },
  {
   "cell_type": "markdown",
   "id": "9844c0da-d668-426b-80f4-e8677d9efe21",
   "metadata": {},
   "source": [
    "\n",
    "1. There is currently a net loss due to the higher value of imports over exports, managerial focus should be on gaining a stronghold and converting it into a profit by increasing exports.\n",
    "2. The countries to focus on as big players are Korea, Portugal and Czech Republic.\n",
    "3. There is a significant difference in the countries that are the absolute trade leaders and the countries with a higher average transaction value, those countries should be targeted and focused on.\n",
    "4. On average January is the peak month of the year, whereas September is when trade dips across the world.\n",
    "5. Our Most valuable product category is Furniture, based on both, absolute and average transaction values. This can be converted into a cash cow by further improving quantity and gaining a higher market share.\n",
    "6. For goods shipped by air, the most traded category is Furniture.\n",
    "7. For goods shipped by sea, the most valuable category is Electronics.\n",
    "8. For goods shipped by sea, the most valuable category is Electronics.\n",
    "9. There is a statistically significant difference in average Transaction Value across the three shipping methods, where the transaction through \"Sea\" is the maximum and the transaction through \"Air\" being the lowest.\n",
    "10. The biggest players - Czech Republic, Korea and Portugal trade the most in Clothing and Furniture. The other categories have a decent drop off in trade value.\n",
    "11. There is a statistically significant difference in average Transaction Value across the three shipping methods.\n",
    "12. There is no statistically significant difference in weight across different shipping methods.\n",
    "13. Most orders are on cash on delivery basis, but the average order value is the highest where 30 day credit period is given.\n",
    "14. Lake Michael is the most imortant port whereas Brown PLC is the biggest supplier of goods."
   ]
  },
  {
   "cell_type": "markdown",
   "id": "7a168bf9-27b6-4de5-a3b7-a63ef629721e",
   "metadata": {},
   "source": [
    "## Managerial Insights"
   ]
  },
  {
   "cell_type": "markdown",
   "id": "a821fd8b-b7c1-447d-99e1-19f2daa4132c",
   "metadata": {},
   "source": [
    "1. A higher import volume might suggest that the company is heavily reliant on foreign markets for its inventory, which can have cost implications due to shipping, tariffs, and exchange rates.\n",
    "2. Identifying peak and dip months in trade activity helps businesses align resources with demand. During peak months, companies should boost production, inventory, and marketing to meet increased demand, while during dips, they should focus on cost-saving measures like reducing inventory and scaling down operations.\n",
    "3. Countries with the highest average quantity per transaction represent key markets with high demand, offering significant opportunities for business growth. These large orders can lead to more efficient shipping and production, improving profit margins. However, it’s important to ensure that the increased quantities correlate with higher total values and don’t compromise profitability due to discounts or high shipping costs.\n",
    "4. Evaluate and possibly renegotiate contracts with shipping providers based on the high volume of specific categories. This could lead to cost reductions and improved service levels.\n",
    "5. Focus on valuable countries and maintain good relations\n",
    "    - Optimize Supply Chain: Ensure that the supply chain is optimized for efficient delivery to Korea, Portugal and Czech Republic, including transportation routes, customs procedures, and inventory management.\n",
    "    - Offer Localized Products: Consider customizing products or services to meet the specific needs and preferences of Korean consumers.\n",
    "6. Analyze the pricing strategy for clothing products, improve profitability as it is the most commonly traded category.\n",
    "7. Product Customization\r",
    "    - Consider customizing Furniture products to meet the specific tastes and preferences of Portuguese consumers.\n",
    "    - Given Korea's expertise in Electronics, consider further specialization in this area to maintain a competitive edge and leverage existing capabilitie\n",
    "8. Since there is a significant difference in transaction values across shipping methods, management should analyze the cost-effectiveness of each shipping method in relation to the transaction value.\n",
    "9. Develop product-specific shipping strategies that align with transaction values. For instance, high-value electronics might be best suited for faster shipping, while bulk or lower-value items could be shipped via slower but cheaper methods like sea or land.\n",
    "10.  Implement consolidation strategies, combining multiple orders into single shipments to reduce costs while maintaining efficiency.\n",
    "11. Since weight does not affect shipping methods significantly, optimize shipping operations by focusing on other factors like delivery speed, cost, and urgency, rather than weight limitations.\n",
    "12.  Since January is usually when trade peaks, increase inventory levels starting November to combat the increase. Similarly manage inventory in low trade monhts of September.\n",
    "13. Explore opportunities to expand the capacity or capabilities of Lake Michael to accommodate future growth and handle larger volumes of goods.\n",
    "14.  Segment customers based on their payment preferences and purchase behavior to tailor credit policies and marketing efforts accordingly.\r\n",
    "\n"
   ]
  },
  {
   "cell_type": "markdown",
   "id": "9c93c0a3-48dd-49a9-9134-cfec6d4d2fc9",
   "metadata": {},
   "source": [
    "## PROBLEM STATEMENTS"
   ]
  },
  {
   "cell_type": "code",
   "execution_count": 574,
   "id": "f256dbdb-303e-4fc1-b792-6207f49c2667",
   "metadata": {},
   "outputs": [],
   "source": [
    "#1. What is the total income generated from the exports?\n",
    "#2. What is the total expenditure on the imports?\n",
    "#3. On Average, what are generally the best and the worst months for trade in terms of trade value?\n",
    "#4. Which countries have the highest average quantity per transaction, and how does this affect total value?\n",
    "#5. For each shipping method, what is the most preferred product category?\n",
    "#6. What is the most significant country when it comes to overall value of trade in the market?\n",
    "#7. Is there a statistically significant difference in average Transaction Value of import and export.\n",
    "#8. What product category do the biggest players trade the most in?\n",
    "#9. What is the most important product category?\n",
    "#10. Is there a statistically significant difference in average Transaction Value across the shipping methods?\n",
    "#11. Is there a significant difference in weight for the different shipping methods?\n",
    "#12. What is the bifurcation of trade on the basis of Payment Terms?\n",
    "#13. Supplier and Port with the most value."
   ]
  },
  {
   "cell_type": "markdown",
   "id": "8243753e-843c-463f-98f6-ce1afa7a9579",
   "metadata": {},
   "source": [
    "## ANALYSIS"
   ]
  },
  {
   "cell_type": "code",
   "execution_count": 284,
   "id": "84f4fcab-1c8e-4e7a-a452-d242f7d5b334",
   "metadata": {},
   "outputs": [],
   "source": [
    "#The required Imports\n",
    "import pandas as pd\n",
    "import numpy as np\n",
    "import matplotlib.pyplot as plt"
   ]
  },
  {
   "cell_type": "code",
   "execution_count": 286,
   "id": "dd165af9-bb0b-4df0-9ea4-0211c9a86193",
   "metadata": {},
   "outputs": [],
   "source": [
    "#Loading the csv Data in Python\n",
    "database=pd.read_csv(\"C:/Users/itigh/Imports_Exports_Dataset.csv\")"
   ]
  },
  {
   "cell_type": "code",
   "execution_count": 287,
   "id": "42e1f4de-8aa5-4a28-a7cc-e6c58afc697f",
   "metadata": {},
   "outputs": [
    {
     "data": {
      "text/html": [
       "<div>\n",
       "<style scoped>\n",
       "    .dataframe tbody tr th:only-of-type {\n",
       "        vertical-align: middle;\n",
       "    }\n",
       "\n",
       "    .dataframe tbody tr th {\n",
       "        vertical-align: top;\n",
       "    }\n",
       "\n",
       "    .dataframe thead th {\n",
       "        text-align: right;\n",
       "    }\n",
       "</style>\n",
       "<table border=\"1\" class=\"dataframe\">\n",
       "  <thead>\n",
       "    <tr style=\"text-align: right;\">\n",
       "      <th></th>\n",
       "      <th>Transaction_ID</th>\n",
       "      <th>Country</th>\n",
       "      <th>Product</th>\n",
       "      <th>Import_Export</th>\n",
       "      <th>Quantity</th>\n",
       "      <th>Value</th>\n",
       "      <th>Date</th>\n",
       "      <th>Category</th>\n",
       "      <th>Port</th>\n",
       "      <th>Customs_Code</th>\n",
       "      <th>Weight</th>\n",
       "      <th>Shipping_Method</th>\n",
       "      <th>Supplier</th>\n",
       "      <th>Customer</th>\n",
       "      <th>Invoice_Number</th>\n",
       "      <th>Payment_Terms</th>\n",
       "    </tr>\n",
       "  </thead>\n",
       "  <tbody>\n",
       "    <tr>\n",
       "      <th>0</th>\n",
       "      <td>e3e70682-c209-4cac-a29f-6fbed82c07cd</td>\n",
       "      <td>Colombia</td>\n",
       "      <td>describe</td>\n",
       "      <td>Export</td>\n",
       "      <td>1979</td>\n",
       "      <td>9506.57</td>\n",
       "      <td>07-12-2023</td>\n",
       "      <td>Machinery</td>\n",
       "      <td>Robertbury</td>\n",
       "      <td>620537</td>\n",
       "      <td>4248.65</td>\n",
       "      <td>Air</td>\n",
       "      <td>Garrison, Hubbard and Hendricks</td>\n",
       "      <td>Seth Hall</td>\n",
       "      <td>21000294</td>\n",
       "      <td>Cash on Delivery</td>\n",
       "    </tr>\n",
       "    <tr>\n",
       "      <th>1</th>\n",
       "      <td>f728b4fa-4248-4e3a-8a5d-2f346baa9455</td>\n",
       "      <td>Chile</td>\n",
       "      <td>president</td>\n",
       "      <td>Export</td>\n",
       "      <td>5763</td>\n",
       "      <td>7100.91</td>\n",
       "      <td>04-04-2023</td>\n",
       "      <td>Clothing</td>\n",
       "      <td>Shahport</td>\n",
       "      <td>927600</td>\n",
       "      <td>4340.81</td>\n",
       "      <td>Air</td>\n",
       "      <td>Webb-Mack</td>\n",
       "      <td>Kimberly Ryan</td>\n",
       "      <td>88738432</td>\n",
       "      <td>Prepaid</td>\n",
       "    </tr>\n",
       "    <tr>\n",
       "      <th>2</th>\n",
       "      <td>eb1167b3-67a9-4378-bc65-c1e582e2e662</td>\n",
       "      <td>Turkey</td>\n",
       "      <td>far</td>\n",
       "      <td>Import</td>\n",
       "      <td>5740</td>\n",
       "      <td>2450.34</td>\n",
       "      <td>21-08-2024</td>\n",
       "      <td>Electronics</td>\n",
       "      <td>South Joshuatown</td>\n",
       "      <td>299258</td>\n",
       "      <td>4538.41</td>\n",
       "      <td>Air</td>\n",
       "      <td>Mendez, Jones and Johnson</td>\n",
       "      <td>Ryan Silva</td>\n",
       "      <td>89922099</td>\n",
       "      <td>Prepaid</td>\n",
       "    </tr>\n",
       "    <tr>\n",
       "      <th>3</th>\n",
       "      <td>f7c1bd87-4da5-4709-9471-3d60c8a70639</td>\n",
       "      <td>Christmas Island</td>\n",
       "      <td>agency</td>\n",
       "      <td>Export</td>\n",
       "      <td>2592</td>\n",
       "      <td>7226.42</td>\n",
       "      <td>09-05-2022</td>\n",
       "      <td>Furniture</td>\n",
       "      <td>Adamfort</td>\n",
       "      <td>996084</td>\n",
       "      <td>4886.14</td>\n",
       "      <td>Air</td>\n",
       "      <td>Schroeder-Smith</td>\n",
       "      <td>Jacob Gray</td>\n",
       "      <td>63216265</td>\n",
       "      <td>Net 60</td>\n",
       "    </tr>\n",
       "    <tr>\n",
       "      <th>4</th>\n",
       "      <td>e443df78-9558-467f-9ba9-1faf7a024204</td>\n",
       "      <td>Finland</td>\n",
       "      <td>policy</td>\n",
       "      <td>Export</td>\n",
       "      <td>2622</td>\n",
       "      <td>2817.29</td>\n",
       "      <td>03-04-2023</td>\n",
       "      <td>Electronics</td>\n",
       "      <td>Juliebury</td>\n",
       "      <td>555981</td>\n",
       "      <td>4406.74</td>\n",
       "      <td>Air</td>\n",
       "      <td>Zimmerman LLC</td>\n",
       "      <td>Amy Stephens</td>\n",
       "      <td>94600248</td>\n",
       "      <td>Cash on Delivery</td>\n",
       "    </tr>\n",
       "  </tbody>\n",
       "</table>\n",
       "</div>"
      ],
      "text/plain": [
       "                         Transaction_ID           Country    Product  \\\n",
       "0  e3e70682-c209-4cac-a29f-6fbed82c07cd          Colombia   describe   \n",
       "1  f728b4fa-4248-4e3a-8a5d-2f346baa9455             Chile  president   \n",
       "2  eb1167b3-67a9-4378-bc65-c1e582e2e662            Turkey        far   \n",
       "3  f7c1bd87-4da5-4709-9471-3d60c8a70639  Christmas Island     agency   \n",
       "4  e443df78-9558-467f-9ba9-1faf7a024204           Finland     policy   \n",
       "\n",
       "  Import_Export  Quantity    Value        Date     Category              Port  \\\n",
       "0        Export      1979  9506.57  07-12-2023    Machinery        Robertbury   \n",
       "1        Export      5763  7100.91  04-04-2023     Clothing          Shahport   \n",
       "2        Import      5740  2450.34  21-08-2024  Electronics  South Joshuatown   \n",
       "3        Export      2592  7226.42  09-05-2022    Furniture          Adamfort   \n",
       "4        Export      2622  2817.29  03-04-2023  Electronics         Juliebury   \n",
       "\n",
       "   Customs_Code   Weight Shipping_Method                         Supplier  \\\n",
       "0        620537  4248.65             Air  Garrison, Hubbard and Hendricks   \n",
       "1        927600  4340.81             Air                        Webb-Mack   \n",
       "2        299258  4538.41             Air        Mendez, Jones and Johnson   \n",
       "3        996084  4886.14             Air                  Schroeder-Smith   \n",
       "4        555981  4406.74             Air                    Zimmerman LLC   \n",
       "\n",
       "        Customer  Invoice_Number     Payment_Terms  \n",
       "0      Seth Hall        21000294  Cash on Delivery  \n",
       "1  Kimberly Ryan        88738432           Prepaid  \n",
       "2     Ryan Silva        89922099           Prepaid  \n",
       "3     Jacob Gray        63216265            Net 60  \n",
       "4   Amy Stephens        94600248  Cash on Delivery  "
      ]
     },
     "execution_count": 287,
     "metadata": {},
     "output_type": "execute_result"
    }
   ],
   "source": [
    "# Viewing the top 5 rows of the data\n",
    "database.head(5)"
   ]
  },
  {
   "cell_type": "code",
   "execution_count": 290,
   "id": "54bab200-0483-4df9-a7d8-8dbbe9569534",
   "metadata": {},
   "outputs": [
    {
     "data": {
      "text/plain": [
       "(15000, 16)"
      ]
     },
     "execution_count": 290,
     "metadata": {},
     "output_type": "execute_result"
    }
   ],
   "source": [
    "# Dimensions of the Data\n",
    "database.shape"
   ]
  },
  {
   "cell_type": "markdown",
   "id": "a86d0b3b-34cd-4661-b8b0-13bdb2f204ac",
   "metadata": {},
   "source": [
    "The dataset has 15000 observations and 16 variables"
   ]
  },
  {
   "cell_type": "code",
   "execution_count": 293,
   "id": "959739ed-eeaa-4788-854f-597ffb6e7641",
   "metadata": {},
   "outputs": [
    {
     "name": "stdout",
     "output_type": "stream",
     "text": [
      "<class 'pandas.core.frame.DataFrame'>\n",
      "RangeIndex: 15000 entries, 0 to 14999\n",
      "Data columns (total 16 columns):\n",
      " #   Column           Non-Null Count  Dtype  \n",
      "---  ------           --------------  -----  \n",
      " 0   Transaction_ID   15000 non-null  object \n",
      " 1   Country          15000 non-null  object \n",
      " 2   Product          15000 non-null  object \n",
      " 3   Import_Export    15000 non-null  object \n",
      " 4   Quantity         15000 non-null  int64  \n",
      " 5   Value            15000 non-null  float64\n",
      " 6   Date             15000 non-null  object \n",
      " 7   Category         15000 non-null  object \n",
      " 8   Port             15000 non-null  object \n",
      " 9   Customs_Code     15000 non-null  int64  \n",
      " 10  Weight           15000 non-null  float64\n",
      " 11  Shipping_Method  15000 non-null  object \n",
      " 12  Supplier         15000 non-null  object \n",
      " 13  Customer         15000 non-null  object \n",
      " 14  Invoice_Number   15000 non-null  int64  \n",
      " 15  Payment_Terms    15000 non-null  object \n",
      "dtypes: float64(2), int64(3), object(11)\n",
      "memory usage: 1.8+ MB\n"
     ]
    }
   ],
   "source": [
    "#Data Variable Types\n",
    "#Viewing the information about the columns(Object Types) of the Data set\n",
    "database.info()"
   ]
  },
  {
   "cell_type": "markdown",
   "id": "2ee869c7-faaf-4fa1-840b-1f2688e58a6a",
   "metadata": {},
   "source": [
    "#### Sampling of Data"
   ]
  },
  {
   "cell_type": "code",
   "execution_count": 296,
   "id": "6d688ed1-cce6-44a7-a3fb-ff32dc2222f5",
   "metadata": {},
   "outputs": [],
   "source": [
    "# Sampled 2001 rows randomly from the given data set\n",
    "samData = database.sample(n=2001,random_state=50155049)"
   ]
  },
  {
   "cell_type": "code",
   "execution_count": 298,
   "id": "c40fc4bb-b5f6-49b1-875d-a95e468311d0",
   "metadata": {},
   "outputs": [
    {
     "data": {
      "text/html": [
       "<div>\n",
       "<style scoped>\n",
       "    .dataframe tbody tr th:only-of-type {\n",
       "        vertical-align: middle;\n",
       "    }\n",
       "\n",
       "    .dataframe tbody tr th {\n",
       "        vertical-align: top;\n",
       "    }\n",
       "\n",
       "    .dataframe thead th {\n",
       "        text-align: right;\n",
       "    }\n",
       "</style>\n",
       "<table border=\"1\" class=\"dataframe\">\n",
       "  <thead>\n",
       "    <tr style=\"text-align: right;\">\n",
       "      <th></th>\n",
       "      <th>Transaction_ID</th>\n",
       "      <th>Country</th>\n",
       "      <th>Product</th>\n",
       "      <th>Import_Export</th>\n",
       "      <th>Quantity</th>\n",
       "      <th>Value</th>\n",
       "      <th>Date</th>\n",
       "      <th>Category</th>\n",
       "      <th>Port</th>\n",
       "      <th>Customs_Code</th>\n",
       "      <th>Weight</th>\n",
       "      <th>Shipping_Method</th>\n",
       "      <th>Supplier</th>\n",
       "      <th>Customer</th>\n",
       "      <th>Invoice_Number</th>\n",
       "      <th>Payment_Terms</th>\n",
       "    </tr>\n",
       "  </thead>\n",
       "  <tbody>\n",
       "    <tr>\n",
       "      <th>4475</th>\n",
       "      <td>040c4d58-954a-4019-a093-e30f1e1eedd9</td>\n",
       "      <td>Cayman Islands</td>\n",
       "      <td>particularly</td>\n",
       "      <td>Export</td>\n",
       "      <td>3401</td>\n",
       "      <td>7596.83</td>\n",
       "      <td>21-11-2021</td>\n",
       "      <td>Clothing</td>\n",
       "      <td>Connorfort</td>\n",
       "      <td>421451</td>\n",
       "      <td>2297.29</td>\n",
       "      <td>Air</td>\n",
       "      <td>Wang-Pierce</td>\n",
       "      <td>Nicholas Thomas</td>\n",
       "      <td>93759184</td>\n",
       "      <td>Net 30</td>\n",
       "    </tr>\n",
       "    <tr>\n",
       "      <th>14872</th>\n",
       "      <td>a171d7ab-9aaf-46b5-9885-75e4cbb1a283</td>\n",
       "      <td>Korea</td>\n",
       "      <td>food</td>\n",
       "      <td>Export</td>\n",
       "      <td>9065</td>\n",
       "      <td>9840.43</td>\n",
       "      <td>18-08-2021</td>\n",
       "      <td>Clothing</td>\n",
       "      <td>Robinsonfort</td>\n",
       "      <td>273361</td>\n",
       "      <td>1355.64</td>\n",
       "      <td>Sea</td>\n",
       "      <td>Watkins, Turner and Mckenzie</td>\n",
       "      <td>Rebecca Howell</td>\n",
       "      <td>51859480</td>\n",
       "      <td>Cash on Delivery</td>\n",
       "    </tr>\n",
       "    <tr>\n",
       "      <th>11676</th>\n",
       "      <td>7b274e83-1f5e-47c1-bf99-277822ea6d2e</td>\n",
       "      <td>Wallis and Futuna</td>\n",
       "      <td>visit</td>\n",
       "      <td>Import</td>\n",
       "      <td>8263</td>\n",
       "      <td>9784.94</td>\n",
       "      <td>28-01-2021</td>\n",
       "      <td>Electronics</td>\n",
       "      <td>Josephville</td>\n",
       "      <td>595425</td>\n",
       "      <td>2794.72</td>\n",
       "      <td>Sea</td>\n",
       "      <td>Baird-Evans</td>\n",
       "      <td>Alfred Webb</td>\n",
       "      <td>90639306</td>\n",
       "      <td>Net 60</td>\n",
       "    </tr>\n",
       "    <tr>\n",
       "      <th>7899</th>\n",
       "      <td>2ac89f33-ea9f-4d6e-a74b-a32f4ba28a39</td>\n",
       "      <td>Mauritania</td>\n",
       "      <td>use</td>\n",
       "      <td>Export</td>\n",
       "      <td>861</td>\n",
       "      <td>5886.57</td>\n",
       "      <td>08-08-2024</td>\n",
       "      <td>Electronics</td>\n",
       "      <td>Alberthaven</td>\n",
       "      <td>938768</td>\n",
       "      <td>651.74</td>\n",
       "      <td>Land</td>\n",
       "      <td>Herrera, Martinez and Mathews</td>\n",
       "      <td>Javier Thompson</td>\n",
       "      <td>78531183</td>\n",
       "      <td>Cash on Delivery</td>\n",
       "    </tr>\n",
       "    <tr>\n",
       "      <th>13257</th>\n",
       "      <td>74f78ab7-9337-454c-9493-5f113ba9e1ec</td>\n",
       "      <td>Iraq</td>\n",
       "      <td>ago</td>\n",
       "      <td>Export</td>\n",
       "      <td>4736</td>\n",
       "      <td>5980.04</td>\n",
       "      <td>22-01-2020</td>\n",
       "      <td>Furniture</td>\n",
       "      <td>Lucasshire</td>\n",
       "      <td>694309</td>\n",
       "      <td>1153.97</td>\n",
       "      <td>Land</td>\n",
       "      <td>Gutierrez-Lawson</td>\n",
       "      <td>Anthony Warren</td>\n",
       "      <td>42585126</td>\n",
       "      <td>Net 60</td>\n",
       "    </tr>\n",
       "  </tbody>\n",
       "</table>\n",
       "</div>"
      ],
      "text/plain": [
       "                             Transaction_ID            Country       Product  \\\n",
       "4475   040c4d58-954a-4019-a093-e30f1e1eedd9     Cayman Islands  particularly   \n",
       "14872  a171d7ab-9aaf-46b5-9885-75e4cbb1a283              Korea          food   \n",
       "11676  7b274e83-1f5e-47c1-bf99-277822ea6d2e  Wallis and Futuna         visit   \n",
       "7899   2ac89f33-ea9f-4d6e-a74b-a32f4ba28a39         Mauritania           use   \n",
       "13257  74f78ab7-9337-454c-9493-5f113ba9e1ec               Iraq           ago   \n",
       "\n",
       "      Import_Export  Quantity    Value        Date     Category          Port  \\\n",
       "4475         Export      3401  7596.83  21-11-2021     Clothing    Connorfort   \n",
       "14872        Export      9065  9840.43  18-08-2021     Clothing  Robinsonfort   \n",
       "11676        Import      8263  9784.94  28-01-2021  Electronics   Josephville   \n",
       "7899         Export       861  5886.57  08-08-2024  Electronics   Alberthaven   \n",
       "13257        Export      4736  5980.04  22-01-2020    Furniture    Lucasshire   \n",
       "\n",
       "       Customs_Code   Weight Shipping_Method                       Supplier  \\\n",
       "4475         421451  2297.29             Air                    Wang-Pierce   \n",
       "14872        273361  1355.64             Sea   Watkins, Turner and Mckenzie   \n",
       "11676        595425  2794.72             Sea                    Baird-Evans   \n",
       "7899         938768   651.74            Land  Herrera, Martinez and Mathews   \n",
       "13257        694309  1153.97            Land               Gutierrez-Lawson   \n",
       "\n",
       "              Customer  Invoice_Number     Payment_Terms  \n",
       "4475   Nicholas Thomas        93759184            Net 30  \n",
       "14872   Rebecca Howell        51859480  Cash on Delivery  \n",
       "11676      Alfred Webb        90639306            Net 60  \n",
       "7899   Javier Thompson        78531183  Cash on Delivery  \n",
       "13257   Anthony Warren        42585126            Net 60  "
      ]
     },
     "execution_count": 298,
     "metadata": {},
     "output_type": "execute_result"
    }
   ],
   "source": [
    "# Display the sampled dataset\n",
    "samData.head(5)"
   ]
  },
  {
   "cell_type": "code",
   "execution_count": 300,
   "id": "d80ab13a-febc-46b4-bfa5-443e2cba7c42",
   "metadata": {},
   "outputs": [
    {
     "data": {
      "text/plain": [
       "(2001, 16)"
      ]
     },
     "execution_count": 300,
     "metadata": {},
     "output_type": "execute_result"
    }
   ],
   "source": [
    "#Shape of the sampled data\n",
    "samData.shape"
   ]
  },
  {
   "cell_type": "code",
   "execution_count": 301,
   "id": "c8d4e519-4856-48e6-a3a6-2a92325a41d4",
   "metadata": {},
   "outputs": [
    {
     "name": "stdout",
     "output_type": "stream",
     "text": [
      "<class 'pandas.core.frame.DataFrame'>\n",
      "Index: 2001 entries, 4475 to 13135\n",
      "Data columns (total 16 columns):\n",
      " #   Column           Non-Null Count  Dtype  \n",
      "---  ------           --------------  -----  \n",
      " 0   Transaction_ID   2001 non-null   object \n",
      " 1   Country          2001 non-null   object \n",
      " 2   Product          2001 non-null   object \n",
      " 3   Import_Export    2001 non-null   object \n",
      " 4   Quantity         2001 non-null   int64  \n",
      " 5   Value            2001 non-null   float64\n",
      " 6   Date             2001 non-null   object \n",
      " 7   Category         2001 non-null   object \n",
      " 8   Port             2001 non-null   object \n",
      " 9   Customs_Code     2001 non-null   int64  \n",
      " 10  Weight           2001 non-null   float64\n",
      " 11  Shipping_Method  2001 non-null   object \n",
      " 12  Supplier         2001 non-null   object \n",
      " 13  Customer         2001 non-null   object \n",
      " 14  Invoice_Number   2001 non-null   int64  \n",
      " 15  Payment_Terms    2001 non-null   object \n",
      "dtypes: float64(2), int64(3), object(11)\n",
      "memory usage: 265.8+ KB\n"
     ]
    }
   ],
   "source": [
    "#Viewing the information about the columns(Object Types) of the Sampled Data set\n",
    "samData.info()"
   ]
  },
  {
   "cell_type": "code",
   "execution_count": 302,
   "id": "89bba99e-aae3-4db3-9ab7-00f1df230cd2",
   "metadata": {},
   "outputs": [],
   "source": [
    "#Data Variable Category\n",
    "Index_variable = samData[['Transaction_ID', 'Date','Invoice_Number','Customs_Code']]\n",
    "Non_categorical_variable = samData[['Quantity', 'Value', 'Weight']]\n",
    "Categorical_nominal_variable = samData[['Country', 'Product', 'Shipping_Method', 'Supplier', 'Customer', 'Import_Export','Port', 'Category']]\n",
    "Categorical_ordinal_variable = samData[['Payment_Terms']]\n"
   ]
  },
  {
   "cell_type": "code",
   "execution_count": 303,
   "id": "f5396823-e8a5-4fa3-bfa4-0ddc14dc5394",
   "metadata": {},
   "outputs": [
    {
     "data": {
      "text/html": [
       "<div>\n",
       "<style scoped>\n",
       "    .dataframe tbody tr th:only-of-type {\n",
       "        vertical-align: middle;\n",
       "    }\n",
       "\n",
       "    .dataframe tbody tr th {\n",
       "        vertical-align: top;\n",
       "    }\n",
       "\n",
       "    .dataframe thead th {\n",
       "        text-align: right;\n",
       "    }\n",
       "</style>\n",
       "<table border=\"1\" class=\"dataframe\">\n",
       "  <thead>\n",
       "    <tr style=\"text-align: right;\">\n",
       "      <th></th>\n",
       "      <th>Quantity</th>\n",
       "      <th>Value</th>\n",
       "      <th>Weight</th>\n",
       "    </tr>\n",
       "  </thead>\n",
       "  <tbody>\n",
       "    <tr>\n",
       "      <th>count</th>\n",
       "      <td>2001.000000</td>\n",
       "      <td>2001.000000</td>\n",
       "      <td>2001.000000</td>\n",
       "    </tr>\n",
       "    <tr>\n",
       "      <th>mean</th>\n",
       "      <td>4961.306347</td>\n",
       "      <td>5028.538356</td>\n",
       "      <td>2512.297186</td>\n",
       "    </tr>\n",
       "    <tr>\n",
       "      <th>std</th>\n",
       "      <td>2895.453319</td>\n",
       "      <td>2858.375060</td>\n",
       "      <td>1462.513339</td>\n",
       "    </tr>\n",
       "    <tr>\n",
       "      <th>min</th>\n",
       "      <td>11.000000</td>\n",
       "      <td>109.900000</td>\n",
       "      <td>1.520000</td>\n",
       "    </tr>\n",
       "    <tr>\n",
       "      <th>25%</th>\n",
       "      <td>2384.000000</td>\n",
       "      <td>2552.990000</td>\n",
       "      <td>1262.980000</td>\n",
       "    </tr>\n",
       "    <tr>\n",
       "      <th>50%</th>\n",
       "      <td>4946.000000</td>\n",
       "      <td>5016.560000</td>\n",
       "      <td>2475.440000</td>\n",
       "    </tr>\n",
       "    <tr>\n",
       "      <th>75%</th>\n",
       "      <td>7474.000000</td>\n",
       "      <td>7494.420000</td>\n",
       "      <td>3800.390000</td>\n",
       "    </tr>\n",
       "    <tr>\n",
       "      <th>max</th>\n",
       "      <td>9995.000000</td>\n",
       "      <td>9995.580000</td>\n",
       "      <td>4999.930000</td>\n",
       "    </tr>\n",
       "  </tbody>\n",
       "</table>\n",
       "</div>"
      ],
      "text/plain": [
       "          Quantity        Value       Weight\n",
       "count  2001.000000  2001.000000  2001.000000\n",
       "mean   4961.306347  5028.538356  2512.297186\n",
       "std    2895.453319  2858.375060  1462.513339\n",
       "min      11.000000   109.900000     1.520000\n",
       "25%    2384.000000  2552.990000  1262.980000\n",
       "50%    4946.000000  5016.560000  2475.440000\n",
       "75%    7474.000000  7494.420000  3800.390000\n",
       "max    9995.000000  9995.580000  4999.930000"
      ]
     },
     "execution_count": 303,
     "metadata": {},
     "output_type": "execute_result"
    }
   ],
   "source": [
    "# Descriptive Statistics of the Non-Categorical Data\n",
    "Non_categorical_variable.describe()"
   ]
  },
  {
   "cell_type": "code",
   "execution_count": 304,
   "id": "a9d8bbd1-d383-487c-82eb-ef8d43bb3952",
   "metadata": {},
   "outputs": [
    {
     "data": {
      "text/plain": [
       "Category\n",
       "Clothing       416\n",
       "Electronics    409\n",
       "Furniture      415\n",
       "Machinery      380\n",
       "Toys           381\n",
       "Name: Category, dtype: int64"
      ]
     },
     "execution_count": 304,
     "metadata": {},
     "output_type": "execute_result"
    }
   ],
   "source": [
    "# Descriptive Statistics of Categorical Data\n",
    "Categorical_nominal_variable.groupby('Category')['Category'].count()"
   ]
  },
  {
   "cell_type": "code",
   "execution_count": 305,
   "id": "d4f8edbf-b97e-485b-a1dd-0d9cd7e72ce3",
   "metadata": {},
   "outputs": [
    {
     "name": "stdout",
     "output_type": "stream",
     "text": [
      "Total income generated from exports across all countries: 4980215.92\n",
      "Total exporting transactions across all countries: 991\n",
      "Mean export value: 4916.898\n"
     ]
    }
   ],
   "source": [
    "# 1. What is the total export value across all countries?\n",
    "total_export_value = samData.loc[samData['Import_Export'] == 'Export', 'Value'].astype(float).sum()\n",
    "print(f\"Total income generated from exports across all countries: {total_export_value}\")\n",
    "\n",
    "total_export_quantity = samData.loc[samData['Import_Export'] == 'Export', 'Quantity'].astype(float).count()\n",
    "print(f\"Total exporting transactions across all countries: {total_export_quantity}\")\n",
    "mean_export_quantity = samData.loc[samData['Import_Export'] == 'Export', 'Quantity'].astype(float).mean()\n",
    "print(f\"Mean export value: {mean_export_quantity:.3f}\")"
   ]
  },
  {
   "cell_type": "code",
   "execution_count": 306,
   "id": "99c8de3c-d6be-4f98-a9b6-e207b201cd07",
   "metadata": {},
   "outputs": [
    {
     "name": "stdout",
     "output_type": "stream",
     "text": [
      "Total expenditure on imports across all countries: 5054928.0\n",
      "Total import transactions across all countries: 1010\n",
      "Mean import value: 5004.879\n"
     ]
    }
   ],
   "source": [
    "#2.1 What is the total imported quantity across all countries?\n",
    "total_import_value = samData.loc[samData['Import_Export'] == 'Import', 'Quantity'].astype(float).sum()\n",
    "print(f\"Total expenditure on imports across all countries: {total_import_value}\")\n",
    "total_import_quantity = samData.loc[samData['Import_Export'] == 'Import', 'Value'].astype(float).count()\n",
    "print(f\"Total import transactions across all countries: {total_import_quantity}\")\n",
    "mean_import_quantity = samData.loc[samData['Import_Export'] == 'Import', 'Quantity'].astype(float).mean()\n",
    "print(f\"Mean import value: {mean_import_quantity:.3f}\")"
   ]
  },
  {
   "cell_type": "code",
   "execution_count": 307,
   "id": "1cf107c1-71bc-484b-a486-0c1aee188857",
   "metadata": {},
   "outputs": [
    {
     "name": "stdout",
     "output_type": "stream",
     "text": [
      "Net Loss incurred from trade of goods:74712.08\n"
     ]
    }
   ],
   "source": [
    "#3 Net Gain or Loss from exports and imports over the given time period.\n",
    "if total_export_value>total_import_value:\n",
    "    print(f\"Net Income gained from trade of goods:{(total_export_value)-(total_import_value):.2f}\")\n",
    "else:\n",
    "    print(f\"Net Loss incurred from trade of goods:{total_import_value-total_export_value:.2f}\")"
   ]
  },
  {
   "cell_type": "code",
   "execution_count": 308,
   "id": "4f2686db-dacc-4e57-a2c8-9eb0f06b624f",
   "metadata": {},
   "outputs": [
    {
     "name": "stdout",
     "output_type": "stream",
     "text": [
      "Month with the highest value of trade :\n",
      "Year       2020.00\n",
      "Month        12.00\n",
      "Value    240828.85\n",
      "Name: 15, dtype: float64\n",
      "\n",
      "Dip Month:\n",
      "Year      2024.00\n",
      "Month        9.00\n",
      "Value    52880.45\n",
      "Name: 60, dtype: float64\n"
     ]
    }
   ],
   "source": [
    "# 3. What are the months where trading peaks and dips?\n",
    "\n",
    "samData['Date'] = pd.to_datetime(samData['Date'], dayfirst=True, errors='coerce')\n",
    "\n",
    "if samData['Date'].isnull().any():\n",
    "    print(\"There were some errors in converting dates. Please check your data.\")\n",
    "\n",
    "samData['Year'] = samData['Date'].dt.year\n",
    "samData['Month'] = samData['Date'].dt.month\n",
    "\n",
    "# Group by Year and Month and calculate the sum of TradeVolume for each month\n",
    "monthly_trade = samData.groupby(['Year', 'Month'])['Value'].sum().reset_index()\n",
    "\n",
    "# Find the peak and dip months\n",
    "peak_month = monthly_trade.loc[monthly_trade['Value'].idxmax()]\n",
    "dip_month = monthly_trade.loc[monthly_trade['Value'].idxmin()]\n",
    "\n",
    "print(\"Month with the highest value of trade :\")\n",
    "print(peak_month)\n",
    "\n",
    "print(\"\\nDip Month:\")\n",
    "print(dip_month)"
   ]
  },
  {
   "cell_type": "code",
   "execution_count": 309,
   "id": "8164cba7-a9f1-4e7a-8ef5-c79726ba4411",
   "metadata": {},
   "outputs": [
    {
     "data": {
      "image/png": "[encoded data removed]",
      "text/plain": [
       "<Figure size 1000x600 with 1 Axes>"
      ]
     },
     "metadata": {},
     "output_type": "display_data"
    }
   ],
   "source": [
    "#3b. On Average, what are generally the best and the worst months for trade in terms of trade value?\n",
    "samData['Date'] = pd.to_datetime(samData['Date'])\n",
    "samData['Month'] = samData['Date'].dt.month\n",
    "samData['Year'] = samData['Date'].dt.year\n",
    "\n",
    "monthly_total = samData.groupby(['Year', 'Month'])['Value'].sum().reset_index()\n",
    "\n",
    "monthly_avg = monthly_total.groupby('Month')['Value'].mean().reset_index()\n",
    "\n",
    "monthly_avg['Month'] = monthly_avg['Month'].apply(lambda x: pd.to_datetime(str(x), format='%m').strftime('%B'))\n",
    "\n",
    "monthly_avg = monthly_avg.sort_values(by='Month', key=lambda x: pd.to_datetime(x, format='%B'))\n",
    "\n",
    "plt.figure(figsize=(10, 6))\n",
    "plt.plot(monthly_avg['Month'], monthly_avg['Value'], marker='o', linestyle='-', color='b')\n",
    "\n",
    "plt.title('Average Monthly Trade Value Over 5 Years')\n",
    "plt.xlabel('Month')\n",
    "plt.ylabel('Average Trade Value')\n",
    "plt.xticks(rotation=45)  # Rotate x-axis labels for better readability\n",
    "plt.grid(True)\n",
    "\n",
    "plt.tight_layout()\n",
    "plt.show()\n"
   ]
  },
  {
   "cell_type": "code",
   "execution_count": 310,
   "id": "ddf808af-794f-44c4-a250-305a57b2c6c1",
   "metadata": {},
   "outputs": [
    {
     "name": "stdout",
     "output_type": "stream",
     "text": [
      "Countries with high average value of transactions:\n",
      "Country\n",
      "Indonesia       8344.988333\n",
      "Sri Lanka       8276.500000\n",
      "Togo            7733.795000\n",
      "Vanuatu         7306.981250\n",
      "Saint Martin    7234.653750\n",
      "Name: Value, dtype: float64\n"
     ]
    }
   ],
   "source": [
    "#4  Which countries have the highest average quantity per transaction, and how does this affect total value?\n",
    "print(\"Countries with high average value of transactions:\")\n",
    "print(samData.groupby('Country')['Value'].mean().sort_values(ascending=False).head())\n",
    "\n",
    "country_agg = samData.groupby('Country').agg({\n",
    "    'Quantity': 'count',\n",
    "    'Value': 'sum'\n",
    "}).reset_index()\n"
   ]
  },
  {
   "cell_type": "code",
   "execution_count": 311,
   "id": "8ab4992d-4b15-4aff-a905-271864682f12",
   "metadata": {},
   "outputs": [
    {
     "name": "stdout",
     "output_type": "stream",
     "text": [
      "Country\n",
      "Korea                       64008.74\n",
      "Finland                     54909.86\n",
      "Northern Mariana Islands    50698.75\n",
      "Name: Value, dtype: float64\n",
      "\n",
      "Korea is the country that exports the most, with a total export value of 64009.\n"
     ]
    }
   ],
   "source": [
    "# 4b Which country is the largest importer and the largest exporter by quantity and total transaction value?\n",
    "exportdata = samData[samData['Import_Export']=='Export']\n",
    "print(exportdata.groupby('Country')['Value'].sum().sort_values(ascending=False).head(3))\n",
    "\n",
    "print('\\nKorea is the country that exports the most, with a total export value of 64009.')"
   ]
  },
  {
   "cell_type": "code",
   "execution_count": 312,
   "id": "88fea07b-aa9b-4ef6-bdfa-f5505cb2e1b9",
   "metadata": {},
   "outputs": [
    {
     "name": "stdout",
     "output_type": "stream",
     "text": [
      "Country\n",
      "Portugal        52704.69\n",
      "Saint Martin    52339.96\n",
      "Algeria         50247.60\n",
      "Name: Value, dtype: float64\n",
      "\n",
      "Portugal is the country that imports the most, with a total import value of 52705.\n"
     ]
    }
   ],
   "source": [
    "importdata = samData[samData['Import_Export']=='Import']\n",
    "print(importdata.groupby('Country')['Value'].sum().sort_values(ascending=False).head(3))\n",
    "\n",
    "print('\\nPortugal is the country that imports the most, with a total import value of 52705.')"
   ]
  },
  {
   "cell_type": "code",
   "execution_count": 313,
   "id": "cc28ed52-b8c5-478a-bd30-99826947eb75",
   "metadata": {},
   "outputs": [
    {
     "name": "stdout",
     "output_type": "stream",
     "text": [
      "For goods shipped by air, the most traded category is:\n",
      " Category\n",
      "Furniture    691579.19\n",
      "Name: Value, dtype: float64\n",
      "\n",
      "For goods shipped by sea, the most traded category is:\n",
      " Category\n",
      "Electronics    781741.92\n",
      "Name: Value, dtype: float64\n",
      "\n",
      "For goods shipped by Land, the most traded category is:\n",
      " Category\n",
      "Electronics    737393.56\n",
      "Name: Value, dtype: float64\n"
     ]
    }
   ],
   "source": [
    "#5 For each shipping method, what is the most preferred product category?\n",
    "print(\"For goods shipped by air, the most traded category is:\\n\"\n",
    "      ,samData[samData['Shipping_Method']=='Air'].groupby('Category')['Value'].sum().sort_values(ascending = False).head(1))\n",
    "\n",
    "print(\"\\nFor goods shipped by sea, the most traded category is:\\n\",\n",
    "      samData[samData['Shipping_Method']=='Sea'].groupby('Category')['Value'].sum().sort_values(ascending = False).head(1))\n",
    "\n",
    "print(\"\\nFor goods shipped by Land, the most traded category is:\\n\"\n",
    "      ,samData[samData['Shipping_Method']=='Land'].groupby('Category')['Value'].sum().sort_values(ascending = False).head(1))"
   ]
  },
  {
   "cell_type": "code",
   "execution_count": 314,
   "id": "44b8d188-cec9-473f-9e11-d1c1e8a1fb9e",
   "metadata": {},
   "outputs": [
    {
     "name": "stdout",
     "output_type": "stream",
     "text": [
      "T-Test Results between Import and Export Categories\n",
      "T-statistic: 0.047936664986846775\n",
      "P-value: 0.9617715113704851\n",
      "There is no statistically significant difference in average Transaction Value between Import and Export categories.\n"
     ]
    }
   ],
   "source": [
    "#6 Is there a statistically significant average Transaction Value of import and export.\n",
    "from scipy import stats\n",
    "import_data = samData[samData['Import_Export'] == 'Import']['Value']\n",
    "export_data = samData[samData['Import_Export'] == 'Export']['Value']\n",
    "t_stat, p_value = stats.ttest_ind(import_data, export_data, equal_var=False)  # equal_var=False for Welch's T-test (more robust for unequal variances)\n",
    "\n",
    "print(\"T-Test Results between Import and Export Categories\")\n",
    "print(f\"T-statistic: {t_stat}\")\n",
    "print(f\"P-value: {p_value}\")\n",
    "\n",
    "\n",
    "if p_value < 0.05:\n",
    "    print(\"There is a statistically significant difference in average Transaction Value between Import and Export categories.\")\n",
    "else:\n",
    "    print(\"There is no statistically significant difference in average Transaction Value between Import and Export categories.\")"
   ]
  },
  {
   "cell_type": "code",
   "execution_count": 315,
   "id": "0350410f-ff22-49e6-ac2f-3896b244f6b9",
   "metadata": {},
   "outputs": [
    {
     "name": "stdout",
     "output_type": "stream",
     "text": [
      "\n",
      "Country with the biggesttransactions value:\n",
      "Country     Czech Republic\n",
      "Quantity                15\n",
      "Value             99311.36\n",
      "Name: 56, dtype: object\n"
     ]
    }
   ],
   "source": [
    "#7 Find the country with the highest value of trade\n",
    "max_quantity_country = country_agg.loc[country_agg['Value'].idxmax()]\n",
    "\n",
    "print(\"\\nCountry with the biggesttransactions value:\")\n",
    "print(max_quantity_country[['Country', 'Quantity', 'Value']])"
   ]
  },
  {
   "cell_type": "code",
   "execution_count": 316,
   "id": "a23d7095-8f32-4070-8745-c95cc3af6979",
   "metadata": {},
   "outputs": [
    {
     "data": {
      "text/plain": [
       "Category\n",
       "Electronics    31641.16\n",
       "Clothing       21335.03\n",
       "Furniture      20878.35\n",
       "Toys           12646.11\n",
       "Machinery       3516.86\n",
       "Name: Value, dtype: float64"
      ]
     },
     "execution_count": 316,
     "metadata": {},
     "output_type": "execute_result"
    }
   ],
   "source": [
    "#8a What product category does Korea trade the most, as the biggest exporter?\n",
    "samData[samData['Country']=='Korea'].groupby('Category')['Value'].sum().sort_values(ascending = False)"
   ]
  },
  {
   "cell_type": "markdown",
   "id": "e1e4b89d-2b06-4614-95d6-7ac264dc668b",
   "metadata": {},
   "source": [
    "While Furniture is the category of good that is being traded the most, Korea operates the most in the category of electronics.\n",
    "It can also be seen that while Korea has a decent value of trade in most categories, there is a significant drop when in comes to trade of Machineries."
   ]
  },
  {
   "cell_type": "code",
   "execution_count": 318,
   "id": "f425c2e4-83da-4348-87aa-e1a623680a37",
   "metadata": {},
   "outputs": [
    {
     "data": {
      "text/plain": [
       "Category\n",
       "Furniture      32281.10\n",
       "Clothing       24815.79\n",
       "Electronics     9376.03\n",
       "Toys            1680.14\n",
       "Machinery       1293.64\n",
       "Name: Value, dtype: float64"
      ]
     },
     "execution_count": 318,
     "metadata": {},
     "output_type": "execute_result"
    }
   ],
   "source": [
    "#8b What product category does Portugal trade the most, as the country that is the biggest importer?\n",
    "samData[samData['Country']=='Portugal'].groupby('Category')['Value'].sum().sort_values(ascending = False)"
   ]
  },
  {
   "cell_type": "markdown",
   "id": "8624886f-37d9-42e0-b6ed-55b061ab963e",
   "metadata": {},
   "source": [
    "Portugal trades mostly in Furniture and Clothing, with Furniture being it's biggest category. However there is a significant drop off in trade value first with Electronics, then further with Toys and Machinery."
   ]
  },
  {
   "cell_type": "code",
   "execution_count": 320,
   "id": "0d3a414b-64c7-45bd-adb9-10df7de98df2",
   "metadata": {},
   "outputs": [
    {
     "name": "stdout",
     "output_type": "stream",
     "text": [
      "Category\n",
      "Clothing       29912.50\n",
      "Electronics    23626.17\n",
      "Machinery      19463.82\n",
      "Furniture      18438.01\n",
      "Toys            7870.86\n",
      "Name: Value, dtype: float64\n",
      "Czech Republic deals the most in Clothing and the least in toys with a significant difference as well\n"
     ]
    }
   ],
   "source": [
    "#8c  What product category does Czech Republic trade the most, as the country that is the biggest trader?\n",
    "print(samData[samData['Country']=='Czech Republic'].groupby('Category')['Value'].sum().sort_values(ascending = False))\n",
    "\n",
    "print('Czech Republic deals the most in Clothing and the least in toys with a significant difference as well')"
   ]
  },
  {
   "cell_type": "code",
   "execution_count": 321,
   "id": "495bab2e-8c80-4f93-84ef-6f5d4f98b696",
   "metadata": {},
   "outputs": [
    {
     "name": "stdout",
     "output_type": "stream",
     "text": [
      "The most valuable product category is:\n",
      "Category\n",
      "Furniture    2158053.94\n",
      "Name: Value, dtype: float64\n"
     ]
    }
   ],
   "source": [
    "#9 What are the biggest product category that are being traded, by transaction value?\n",
    "samData.groupby('Category')['Value'].sum().sort_values(ascending = False)\n",
    "\n",
    "print(\"The most valuable product category is:\")\n",
    "print(samData.groupby('Category')['Value'].sum().sort_values(ascending = False).head(1))"
   ]
  },
  {
   "cell_type": "code",
   "execution_count": 322,
   "id": "2c4d3aa1-9e60-4bdf-a7b5-36a2c877d4ac",
   "metadata": {},
   "outputs": [
    {
     "data": {
      "text/plain": [
       "Shipping_Method\n",
       "Sea     678\n",
       "Land    676\n",
       "Air     647\n",
       "Name: Country, dtype: int64"
      ]
     },
     "execution_count": 322,
     "metadata": {},
     "output_type": "execute_result"
    }
   ],
   "source": [
    "#10a What is the preferred shipping method?\n",
    "samData.groupby('Shipping_Method')['Country'].count().sort_values(ascending = False)\n"
   ]
  },
  {
   "cell_type": "code",
   "execution_count": 323,
   "id": "c5b2d737-a721-42d0-82ba-116d6d4916a4",
   "metadata": {},
   "outputs": [
    {
     "name": "stdout",
     "output_type": "stream",
     "text": [
      "ANOVA Test Results for Shipping Methods\n",
      "F-statistic: 4.693382032898953\n",
      "P-value: 0.009256849638839918\n",
      "There is a statistically significant difference in average Transaction Value across the three shipping methods.\n"
     ]
    }
   ],
   "source": [
    "#10b Is there a signifcant difference in average Transaction Value across the shipping methods?\n",
    "\n",
    "shipping_air = samData[samData['Shipping_Method'] == 'Air']['Value']\n",
    "shipping_sea = samData[samData['Shipping_Method'] == 'Sea']['Value']\n",
    "shipping_land = samData[samData['Shipping_Method'] == 'Land']['Value']\n",
    "\n",
    "f_statistic, p_value = stats.f_oneway(shipping_air, shipping_sea, shipping_land)\n",
    "print(\"ANOVA Test Results for Shipping Methods\")\n",
    "print(f\"F-statistic: {f_statistic}\")\n",
    "print(f\"P-value: {p_value}\")\n",
    "\n",
    "\n",
    "if p_value < 0.05:\n",
    "    print(\"There is a statistically significant difference in average Transaction Value across the three shipping methods.\")\n",
    "else:\n",
    "    print(\"There is no statistically significant difference in average Transaction Value across the three shipping methods.\")"
   ]
  },
  {
   "cell_type": "code",
   "execution_count": 324,
   "id": "431ddeab-e0c7-4c81-a244-f46b4baa3eca",
   "metadata": {},
   "outputs": [
    {
     "data": {
      "text/plain": [
       "Shipping_Method\n",
       "Sea     3590442.32\n",
       "Land    3339551.19\n",
       "Air     3132111.74\n",
       "Name: Value, dtype: float64"
      ]
     },
     "execution_count": 324,
     "metadata": {},
     "output_type": "execute_result"
    }
   ],
   "source": [
    "#11c What is the value of goods being shipped by land, air and sea?\n",
    "samData.groupby('Shipping_Method')['Value'].sum().sort_values(ascending = False)"
   ]
  },
  {
   "cell_type": "code",
   "execution_count": 325,
   "id": "0e1c8ddd-8d89-470b-933d-358a2835ec45",
   "metadata": {},
   "outputs": [
    {
     "name": "stdout",
     "output_type": "stream",
     "text": [
      "Mean weight for each transaction across shipping methods \n",
      " Shipping_Method\n",
      "Sea     2552.361844\n",
      "Air     2523.170665\n",
      "Land    2461.706982\n",
      "Name: Weight, dtype: float64\n",
      "\n",
      "ANOVA Test Results\n",
      "F-statistic: 0.6765023653090835\n",
      "P-value: 0.5085084674151488\n",
      "There is no statistically significant difference in weight across different shipping methods.\n"
     ]
    }
   ],
   "source": [
    "#11 Is there a significant difference in weight across shipping methods?\n",
    "# What is the mean weight of trade for each shipping method?\n",
    "print(\"Mean weight for each transaction across shipping methods\",\"\\n\",samData.groupby('Shipping_Method')['Weight'].mean().sort_values(ascending = False))\n",
    "\n",
    "shipping_methods = samData['Shipping_Method'].unique()\n",
    "weights_by_method = [samData[samData['Shipping_Method'] == method]['Weight'] for method in shipping_methods]\n",
    "f_statistic, p_value = stats.f_oneway(*weights_by_method)\n",
    "print(\"\\nANOVA Test Results\")\n",
    "print(f\"F-statistic: {f_statistic}\")\n",
    "print(f\"P-value: {p_value}\")\n",
    "if p_value < 0.05:\n",
    "    print(\"There is a statistically significant difference in weight across different shipping methods.\")\n",
    "else:\n",
    "    print(\"There is no statistically significant difference in weight across different shipping methods.\")"
   ]
  },
  {
   "cell_type": "code",
   "execution_count": 326,
   "id": "94338855-171e-43e0-a304-d8051e32f7f1",
   "metadata": {},
   "outputs": [
    {
     "name": "stdout",
     "output_type": "stream",
     "text": [
      "Number of transactions per Payment Method: \n",
      " Payment_Terms\n",
      "Cash on Delivery    536\n",
      "Net 60              505\n",
      "Prepaid             487\n",
      "Net 30              473\n",
      "Name: Country, dtype: int64\n",
      "\n",
      "Average Value of transactions per Payment Method: \n",
      " Payment_Terms\n",
      "Net 30              5161.553298\n",
      "Prepaid             5129.943450\n",
      "Cash on Delivery    5117.965000\n",
      "Net 60              4711.245228\n",
      "Name: Value, dtype: float64\n"
     ]
    }
   ],
   "source": [
    "#12. What is the bifurcation of trade on the basis of Payment Terms?\n",
    "print('Number of transactions per Payment Method:','\\n',samData.groupby('Payment_Terms')['Country'].count().sort_values(ascending = False))\n",
    "print('\\nAverage Value of transactions per Payment Method:','\\n',samData.groupby('Payment_Terms')['Value'].mean().sort_values(ascending = False))\n"
   ]
  },
  {
   "cell_type": "code",
   "execution_count": 327,
   "id": "ed686612-2e8c-4f66-bc04-bf294884655e",
   "metadata": {},
   "outputs": [
    {
     "data": {
      "text/plain": [
       "Port\n",
       "Lake Michael    28846.73\n",
       "Name: Value, dtype: float64"
      ]
     },
     "execution_count": 327,
     "metadata": {},
     "output_type": "execute_result"
    }
   ],
   "source": [
    "#13a Most valuable port.\n",
    "samData.groupby('Port')['Value'].sum().sort_values(ascending = False).head(1)"
   ]
  },
  {
   "cell_type": "code",
   "execution_count": 328,
   "id": "75af37b2-bd1c-4a60-b466-9ee29b304a8c",
   "metadata": {},
   "outputs": [
    {
     "data": {
      "text/plain": [
       "Supplier\n",
       "Brown PLC    22289.82\n",
       "Name: Value, dtype: float64"
      ]
     },
     "execution_count": 328,
     "metadata": {},
     "output_type": "execute_result"
    }
   ],
   "source": [
    "#13b #Supplier with most value.\n",
    "samData.groupby('Supplier')['Value'].sum().sort_values(ascending = False).head(1)"
   ]
  },
  {
   "cell_type": "code",
   "execution_count": 329,
   "id": "8bb5ebb4-72e6-4321-b324-879dd1540f40",
   "metadata": {},
   "outputs": [
    {
     "data": {
      "text/plain": [
       "Weight    2512.297186\n",
       "dtype: float64"
      ]
     },
     "execution_count": 329,
     "metadata": {},
     "output_type": "execute_result"
    }
   ],
   "source": [
    "#Mean weight of trade.\n",
    "samData[['Weight']].mean()"
   ]
  },
  {
   "cell_type": "code",
   "execution_count": 330,
   "id": "c9af2c02-e6e1-42dc-8f50-7b77aeaea92c",
   "metadata": {},
   "outputs": [
    {
     "data": {
      "text/plain": [
       "Category\n",
       "Toys           2575.875302\n",
       "Clothing       2575.574183\n",
       "Machinery      2480.891868\n",
       "Furniture      2468.338627\n",
       "Electronics    2462.493594\n",
       "Name: Weight, dtype: float64"
      ]
     },
     "execution_count": 330,
     "metadata": {},
     "output_type": "execute_result"
    }
   ],
   "source": [
    "#Mean weight for each product category.\n",
    "samData.groupby('Category')['Weight'].mean().sort_values(ascending = False)"
   ]
  },
  {
   "cell_type": "code",
   "execution_count": 331,
   "id": "cce289cd-f02f-436a-8748-01bbd326a421",
   "metadata": {},
   "outputs": [
    {
     "data": {
      "text/plain": [
       "Transaction_ID     5eefe32c-78d5-46b2-a713-facc4b88b15e\n",
       "Country                                         Namibia\n",
       "Product                                            land\n",
       "Import_Export                                    Import\n",
       "Quantity                                           2993\n",
       "Value                                           9995.58\n",
       "Date                                2020-07-10 00:00:00\n",
       "Category                                    Electronics\n",
       "Port                                        Brendamouth\n",
       "Customs_Code                                     960615\n",
       "Weight                                          1891.43\n",
       "Shipping_Method                                    Land\n",
       "Supplier                     Moore, Walker and Williams\n",
       "Customer                                  Michael Brown\n",
       "Invoice_Number                                 69884930\n",
       "Payment_Terms                                   Prepaid\n",
       "Year                                               2020\n",
       "Month                                                 7\n",
       "Name: 12892, dtype: object"
      ]
     },
     "execution_count": 331,
     "metadata": {},
     "output_type": "execute_result"
    }
   ],
   "source": [
    "#Biggest Transaction in the sample data\n",
    "samData.loc[samData['Value'].idxmax()]"
   ]
  },
  {
   "cell_type": "markdown",
   "id": "3cf96e36-dbd3-4b71-8c9b-45efffd08102",
   "metadata": {},
   "source": [
    "## CONCLUSION:"
   ]
  },
  {
   "cell_type": "markdown",
   "id": "4b791015-987d-43d6-b57c-f800b5ad5c6b",
   "metadata": {},
   "source": [
    "The company faces a significant trade imbalance, driven by higher import values compared to exports. To improve profitability, management should prioritize export growth, especially in key markets like Korea, Portugal, and the Czech Republic. These countries present strong trade opportunities, particularly in categories such as Clothing, Furniture, and Electronics. The data reveals that January is the peak month for trade, suggesting that aligning resources like inventory, production, and logistics to this seasonality can enhance performance. Conversely, cost-saving measures should be implemented during September, a period of low trade activity.\n",
    "\n",
    "Furniture has emerged as the most valuable product category across various metrics, providing a key opportunity for revenue growth. Tailoring furniture products to the preferences of consumers in high-demand markets, such as Portugal, can further capitalize on this potential. Additionally, optimizing shipping methods is critical, as transaction values vary significantly across air, sea, and land shipments. Management should also focus on renegotiating shipping contracts to improve cost-efficiency, especially for high-value categories like Electronics.\n"
   ]
  },
  {
   "cell_type": "code",
   "execution_count": null,
   "id": "c1eabc26-0cdf-48aa-9866-834342bd8428",
   "metadata": {},
   "outputs": [],
   "source": []
  }
 ],
 "metadata": {
  "kernelspec": {
   "display_name": "Python 3 (ipykernel)",
   "language": "python",
   "name": "python3"
  },
  "language_info": {
   "codemirror_mode": {
    "name": "ipython",
    "version": 3
   },
   "file_extension": ".py",
   "mimetype": "text/x-python",
   "name": "python",
   "nbconvert_exporter": "python",
   "pygments_lexer": "ipython3",
   "version": "3.12.4"
  }
 },
 "nbformat": 4,
 "nbformat_minor": 5
}
